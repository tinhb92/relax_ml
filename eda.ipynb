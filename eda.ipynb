{
  "nbformat": 4,
  "nbformat_minor": 0,
  "metadata": {
    "colab": {
      "name": "eda.ipynb",
      "version": "0.3.2",
      "provenance": [],
      "collapsed_sections": []
    },
    "kernelspec": {
      "name": "python3",
      "display_name": "Python 3"
    }
  },
  "cells": [
    {
      "cell_type": "code",
      "metadata": {
        "id": "gGPg0Fao-mZT",
        "colab_type": "code",
        "colab": {}
      },
      "source": [
        "import numpy as np\n",
        "import pandas as pd\n",
        "from numpy import sqrt\n",
        "import matplotlib.pyplot as plt"
      ],
      "execution_count": 0,
      "outputs": []
    },
    {
      "cell_type": "code",
      "metadata": {
        "id": "t9pLtXLW-nJN",
        "colab_type": "code",
        "colab": {
          "base_uri": "https://localhost:8080/",
          "height": 50
        },
        "outputId": "de746c33-cbb5-4910-8277-9acd39b1d4ea"
      },
      "source": [
        "np.random.randn(100000) "
      ],
      "execution_count": 5,
      "outputs": [
        {
          "output_type": "execute_result",
          "data": {
            "text/plain": [
              "array([-0.72759449, -0.45209369, -1.29502829, ...,  0.00997866,\n",
              "        0.53168992, -0.89257863])"
            ]
          },
          "metadata": {
            "tags": []
          },
          "execution_count": 5
        }
      ]
    },
    {
      "cell_type": "code",
      "metadata": {
        "id": "Jhg-Y9px-0zp",
        "colab_type": "code",
        "colab": {}
      },
      "source": [
        "vol = .030\n",
        "lag = 300\n",
        "df = pd.DataFrame(np.random.randn(1000000) * sqrt(vol) * sqrt(1 / 252.)).cumsum()"
      ],
      "execution_count": 0,
      "outputs": []
    },
    {
      "cell_type": "code",
      "metadata": {
        "id": "F0hLyqz_cHcG",
        "colab_type": "code",
        "colab": {
          "base_uri": "https://localhost:8080/",
          "height": 269
        },
        "outputId": "40390d21-0838-44c0-f60f-18a8a167827d"
      },
      "source": [
        "plt.plot(df[0].tolist())\n",
        "plt.show()"
      ],
      "execution_count": 21,
      "outputs": [
        {
          "output_type": "display_data",
          "data": {
            "image/png": "[encoded data removed]",
            "text/plain": [
              "<Figure size 432x288 with 1 Axes>"
            ]
          },
          "metadata": {
            "tags": []
          }
        }
      ]
    },
    {
      "cell_type": "code",
      "metadata": {
        "id": "3tEv_nPIcQOQ",
        "colab_type": "code",
        "colab": {}
      },
      "source": [
        "df = pd.DataFrame(np.random.randn(100000) * sqrt(vol) * sqrt(1 / 252.))"
      ],
      "execution_count": 0,
      "outputs": []
    },
    {
      "cell_type": "code",
      "metadata": {
        "id": "LHy3wQz5_kaa",
        "colab_type": "code",
        "colab": {
          "base_uri": "https://localhost:8080/",
          "height": 269
        },
        "outputId": "68a0c3cc-cb71-4359-8d8b-d903ee9fc20e"
      },
      "source": [
        "plt.plot(df[0].tolist())\n",
        "plt.show()"
      ],
      "execution_count": 9,
      "outputs": [
        {
          "output_type": "display_data",
          "data": {
            "image/png": "[encoded data removed]",
            "text/plain": [
              "<Figure size 432x288 with 1 Axes>"
            ]
          },
          "metadata": {
            "tags": []
          }
        }
      ]
    },
    {
      "cell_type": "code",
      "metadata": {
        "id": "NT52yRLyAGdR",
        "colab_type": "code",
        "colab": {}
      },
      "source": [
        "date_rng = pd.date_range(start='1/1/2018', end='1/08/2018', freq='H')"
      ],
      "execution_count": 0,
      "outputs": []
    },
    {
      "cell_type": "code",
      "metadata": {
        "id": "aQEG99at_lyM",
        "colab_type": "code",
        "colab": {}
      },
      "source": [
        "df = pd.DataFrame(date_rng, columns=['date'])\n",
        "df['data'] = np.random.randint(0,100,size=(len(date_rng)))"
      ],
      "execution_count": 0,
      "outputs": []
    },
    {
      "cell_type": "code",
      "metadata": {
        "id": "ztru6KTWAHaT",
        "colab_type": "code",
        "colab": {
          "base_uri": "https://localhost:8080/",
          "height": 225
        },
        "outputId": "46ddc869-66a4-4927-bd99-429a52012c3a"
      },
      "source": [
        "df['datetime'] = pd.to_datetime(df['date'])\n",
        "df = df.set_index('datetime')\n",
        "df.drop(['date'], axis=1, inplace=True)\n",
        "df.head()"
      ],
      "execution_count": 27,
      "outputs": [
        {
          "output_type": "execute_result",
          "data": {
            "text/html": [
              "<div>\n",
              "<style scoped>\n",
              "    .dataframe tbody tr th:only-of-type {\n",
              "        vertical-align: middle;\n",
              "    }\n",
              "\n",
              "    .dataframe tbody tr th {\n",
              "        vertical-align: top;\n",
              "    }\n",
              "\n",
              "    .dataframe thead th {\n",
              "        text-align: right;\n",
              "    }\n",
              "</style>\n",
              "<table border=\"1\" class=\"dataframe\">\n",
              "  <thead>\n",
              "    <tr style=\"text-align: right;\">\n",
              "      <th></th>\n",
              "      <th>data</th>\n",
              "    </tr>\n",
              "    <tr>\n",
              "      <th>datetime</th>\n",
              "      <th></th>\n",
              "    </tr>\n",
              "  </thead>\n",
              "  <tbody>\n",
              "    <tr>\n",
              "      <th>2018-01-01 00:00:00</th>\n",
              "      <td>60</td>\n",
              "    </tr>\n",
              "    <tr>\n",
              "      <th>2018-01-01 01:00:00</th>\n",
              "      <td>66</td>\n",
              "    </tr>\n",
              "    <tr>\n",
              "      <th>2018-01-01 02:00:00</th>\n",
              "      <td>73</td>\n",
              "    </tr>\n",
              "    <tr>\n",
              "      <th>2018-01-01 03:00:00</th>\n",
              "      <td>14</td>\n",
              "    </tr>\n",
              "    <tr>\n",
              "      <th>2018-01-01 04:00:00</th>\n",
              "      <td>90</td>\n",
              "    </tr>\n",
              "  </tbody>\n",
              "</table>\n",
              "</div>"
            ],
            "text/plain": [
              "                     data\n",
              "datetime                 \n",
              "2018-01-01 00:00:00    60\n",
              "2018-01-01 01:00:00    66\n",
              "2018-01-01 02:00:00    73\n",
              "2018-01-01 03:00:00    14\n",
              "2018-01-01 04:00:00    90"
            ]
          },
          "metadata": {
            "tags": []
          },
          "execution_count": 27
        }
      ]
    },
    {
      "cell_type": "code",
      "metadata": {
        "id": "vUbwcby-AIOK",
        "colab_type": "code",
        "colab": {
          "base_uri": "https://localhost:8080/",
          "height": 1000
        },
        "outputId": "53c0d3df-e3ac-41c6-fcfa-2d7f7a0ec122"
      },
      "source": [
        "string_date_rng = [str(x) for x in date_rng]\n",
        "string_date_rng"
      ],
      "execution_count": 28,
      "outputs": [
        {
          "output_type": "execute_result",
          "data": {
            "text/plain": [
              "['2018-01-01 00:00:00',\n",
              " '2018-01-01 01:00:00',\n",
              " '2018-01-01 02:00:00',\n",
              " '2018-01-01 03:00:00',\n",
              " '2018-01-01 04:00:00',\n",
              " '2018-01-01 05:00:00',\n",
              " '2018-01-01 06:00:00',\n",
              " '2018-01-01 07:00:00',\n",
              " '2018-01-01 08:00:00',\n",
              " '2018-01-01 09:00:00',\n",
              " '2018-01-01 10:00:00',\n",
              " '2018-01-01 11:00:00',\n",
              " '2018-01-01 12:00:00',\n",
              " '2018-01-01 13:00:00',\n",
              " '2018-01-01 14:00:00',\n",
              " '2018-01-01 15:00:00',\n",
              " '2018-01-01 16:00:00',\n",
              " '2018-01-01 17:00:00',\n",
              " '2018-01-01 18:00:00',\n",
              " '2018-01-01 19:00:00',\n",
              " '2018-01-01 20:00:00',\n",
              " '2018-01-01 21:00:00',\n",
              " '2018-01-01 22:00:00',\n",
              " '2018-01-01 23:00:00',\n",
              " '2018-01-02 00:00:00',\n",
              " '2018-01-02 01:00:00',\n",
              " '2018-01-02 02:00:00',\n",
              " '2018-01-02 03:00:00',\n",
              " '2018-01-02 04:00:00',\n",
              " '2018-01-02 05:00:00',\n",
              " '2018-01-02 06:00:00',\n",
              " '2018-01-02 07:00:00',\n",
              " '2018-01-02 08:00:00',\n",
              " '2018-01-02 09:00:00',\n",
              " '2018-01-02 10:00:00',\n",
              " '2018-01-02 11:00:00',\n",
              " '2018-01-02 12:00:00',\n",
              " '2018-01-02 13:00:00',\n",
              " '2018-01-02 14:00:00',\n",
              " '2018-01-02 15:00:00',\n",
              " '2018-01-02 16:00:00',\n",
              " '2018-01-02 17:00:00',\n",
              " '2018-01-02 18:00:00',\n",
              " '2018-01-02 19:00:00',\n",
              " '2018-01-02 20:00:00',\n",
              " '2018-01-02 21:00:00',\n",
              " '2018-01-02 22:00:00',\n",
              " '2018-01-02 23:00:00',\n",
              " '2018-01-03 00:00:00',\n",
              " '2018-01-03 01:00:00',\n",
              " '2018-01-03 02:00:00',\n",
              " '2018-01-03 03:00:00',\n",
              " '2018-01-03 04:00:00',\n",
              " '2018-01-03 05:00:00',\n",
              " '2018-01-03 06:00:00',\n",
              " '2018-01-03 07:00:00',\n",
              " '2018-01-03 08:00:00',\n",
              " '2018-01-03 09:00:00',\n",
              " '2018-01-03 10:00:00',\n",
              " '2018-01-03 11:00:00',\n",
              " '2018-01-03 12:00:00',\n",
              " '2018-01-03 13:00:00',\n",
              " '2018-01-03 14:00:00',\n",
              " '2018-01-03 15:00:00',\n",
              " '2018-01-03 16:00:00',\n",
              " '2018-01-03 17:00:00',\n",
              " '2018-01-03 18:00:00',\n",
              " '2018-01-03 19:00:00',\n",
              " '2018-01-03 20:00:00',\n",
              " '2018-01-03 21:00:00',\n",
              " '2018-01-03 22:00:00',\n",
              " '2018-01-03 23:00:00',\n",
              " '2018-01-04 00:00:00',\n",
              " '2018-01-04 01:00:00',\n",
              " '2018-01-04 02:00:00',\n",
              " '2018-01-04 03:00:00',\n",
              " '2018-01-04 04:00:00',\n",
              " '2018-01-04 05:00:00',\n",
              " '2018-01-04 06:00:00',\n",
              " '2018-01-04 07:00:00',\n",
              " '2018-01-04 08:00:00',\n",
              " '2018-01-04 09:00:00',\n",
              " '2018-01-04 10:00:00',\n",
              " '2018-01-04 11:00:00',\n",
              " '2018-01-04 12:00:00',\n",
              " '2018-01-04 13:00:00',\n",
              " '2018-01-04 14:00:00',\n",
              " '2018-01-04 15:00:00',\n",
              " '2018-01-04 16:00:00',\n",
              " '2018-01-04 17:00:00',\n",
              " '2018-01-04 18:00:00',\n",
              " '2018-01-04 19:00:00',\n",
              " '2018-01-04 20:00:00',\n",
              " '2018-01-04 21:00:00',\n",
              " '2018-01-04 22:00:00',\n",
              " '2018-01-04 23:00:00',\n",
              " '2018-01-05 00:00:00',\n",
              " '2018-01-05 01:00:00',\n",
              " '2018-01-05 02:00:00',\n",
              " '2018-01-05 03:00:00',\n",
              " '2018-01-05 04:00:00',\n",
              " '2018-01-05 05:00:00',\n",
              " '2018-01-05 06:00:00',\n",
              " '2018-01-05 07:00:00',\n",
              " '2018-01-05 08:00:00',\n",
              " '2018-01-05 09:00:00',\n",
              " '2018-01-05 10:00:00',\n",
              " '2018-01-05 11:00:00',\n",
              " '2018-01-05 12:00:00',\n",
              " '2018-01-05 13:00:00',\n",
              " '2018-01-05 14:00:00',\n",
              " '2018-01-05 15:00:00',\n",
              " '2018-01-05 16:00:00',\n",
              " '2018-01-05 17:00:00',\n",
              " '2018-01-05 18:00:00',\n",
              " '2018-01-05 19:00:00',\n",
              " '2018-01-05 20:00:00',\n",
              " '2018-01-05 21:00:00',\n",
              " '2018-01-05 22:00:00',\n",
              " '2018-01-05 23:00:00',\n",
              " '2018-01-06 00:00:00',\n",
              " '2018-01-06 01:00:00',\n",
              " '2018-01-06 02:00:00',\n",
              " '2018-01-06 03:00:00',\n",
              " '2018-01-06 04:00:00',\n",
              " '2018-01-06 05:00:00',\n",
              " '2018-01-06 06:00:00',\n",
              " '2018-01-06 07:00:00',\n",
              " '2018-01-06 08:00:00',\n",
              " '2018-01-06 09:00:00',\n",
              " '2018-01-06 10:00:00',\n",
              " '2018-01-06 11:00:00',\n",
              " '2018-01-06 12:00:00',\n",
              " '2018-01-06 13:00:00',\n",
              " '2018-01-06 14:00:00',\n",
              " '2018-01-06 15:00:00',\n",
              " '2018-01-06 16:00:00',\n",
              " '2018-01-06 17:00:00',\n",
              " '2018-01-06 18:00:00',\n",
              " '2018-01-06 19:00:00',\n",
              " '2018-01-06 20:00:00',\n",
              " '2018-01-06 21:00:00',\n",
              " '2018-01-06 22:00:00',\n",
              " '2018-01-06 23:00:00',\n",
              " '2018-01-07 00:00:00',\n",
              " '2018-01-07 01:00:00',\n",
              " '2018-01-07 02:00:00',\n",
              " '2018-01-07 03:00:00',\n",
              " '2018-01-07 04:00:00',\n",
              " '2018-01-07 05:00:00',\n",
              " '2018-01-07 06:00:00',\n",
              " '2018-01-07 07:00:00',\n",
              " '2018-01-07 08:00:00',\n",
              " '2018-01-07 09:00:00',\n",
              " '2018-01-07 10:00:00',\n",
              " '2018-01-07 11:00:00',\n",
              " '2018-01-07 12:00:00',\n",
              " '2018-01-07 13:00:00',\n",
              " '2018-01-07 14:00:00',\n",
              " '2018-01-07 15:00:00',\n",
              " '2018-01-07 16:00:00',\n",
              " '2018-01-07 17:00:00',\n",
              " '2018-01-07 18:00:00',\n",
              " '2018-01-07 19:00:00',\n",
              " '2018-01-07 20:00:00',\n",
              " '2018-01-07 21:00:00',\n",
              " '2018-01-07 22:00:00',\n",
              " '2018-01-07 23:00:00',\n",
              " '2018-01-08 00:00:00']"
            ]
          },
          "metadata": {
            "tags": []
          },
          "execution_count": 28
        }
      ]
    },
    {
      "cell_type": "code",
      "metadata": {
        "id": "IBdcBOgACVYK",
        "colab_type": "code",
        "colab": {
          "base_uri": "https://localhost:8080/",
          "height": 218
        },
        "outputId": "1016db4a-676e-4b3a-f6bb-aa8fec1258e6"
      },
      "source": [
        "timestamp_date_rng = pd.to_datetime(string_date_rng, infer_datetime_format=True)\n",
        "timestamp_date_rng"
      ],
      "execution_count": 29,
      "outputs": [
        {
          "output_type": "execute_result",
          "data": {
            "text/plain": [
              "DatetimeIndex(['2018-01-01 00:00:00', '2018-01-01 01:00:00',\n",
              "               '2018-01-01 02:00:00', '2018-01-01 03:00:00',\n",
              "               '2018-01-01 04:00:00', '2018-01-01 05:00:00',\n",
              "               '2018-01-01 06:00:00', '2018-01-01 07:00:00',\n",
              "               '2018-01-01 08:00:00', '2018-01-01 09:00:00',\n",
              "               ...\n",
              "               '2018-01-07 15:00:00', '2018-01-07 16:00:00',\n",
              "               '2018-01-07 17:00:00', '2018-01-07 18:00:00',\n",
              "               '2018-01-07 19:00:00', '2018-01-07 20:00:00',\n",
              "               '2018-01-07 21:00:00', '2018-01-07 22:00:00',\n",
              "               '2018-01-07 23:00:00', '2018-01-08 00:00:00'],\n",
              "              dtype='datetime64[ns]', length=169, freq=None)"
            ]
          },
          "metadata": {
            "tags": []
          },
          "execution_count": 29
        }
      ]
    },
    {
      "cell_type": "code",
      "metadata": {
        "id": "dvA34j96C8rZ",
        "colab_type": "code",
        "colab": {}
      },
      "source": [
        "from datetime import datetime"
      ],
      "execution_count": 0,
      "outputs": []
    },
    {
      "cell_type": "code",
      "metadata": {
        "id": "_G6y64IBCeMG",
        "colab_type": "code",
        "colab": {
          "base_uri": "https://localhost:8080/",
          "height": 67
        },
        "outputId": "8fc9250a-d489-4d61-8069-4b1c8a994f72"
      },
      "source": [
        "string_date_rng_2 = ['June-01-2018', 'June-02-2018', 'June-03-2018']\n",
        "timestamp_date_rng_2 = [datetime.strptime(x,'%B-%d-%Y') for x in string_date_rng_2]\n",
        "timestamp_date_rng_2"
      ],
      "execution_count": 32,
      "outputs": [
        {
          "output_type": "execute_result",
          "data": {
            "text/plain": [
              "[datetime.datetime(2018, 6, 1, 0, 0),\n",
              " datetime.datetime(2018, 6, 2, 0, 0),\n",
              " datetime.datetime(2018, 6, 3, 0, 0)]"
            ]
          },
          "metadata": {
            "tags": []
          },
          "execution_count": 32
        }
      ]
    },
    {
      "cell_type": "code",
      "metadata": {
        "id": "4mes50EIChFy",
        "colab_type": "code",
        "colab": {
          "base_uri": "https://localhost:8080/",
          "height": 136
        },
        "outputId": "901b8cd0-234f-4fb9-8049-dd3044583685"
      },
      "source": [
        "df2 = pd.DataFrame(timestamp_date_rng_2, columns=['date'])\n",
        "df2"
      ],
      "execution_count": 33,
      "outputs": [
        {
          "output_type": "execute_result",
          "data": {
            "text/html": [
              "<div>\n",
              "<style scoped>\n",
              "    .dataframe tbody tr th:only-of-type {\n",
              "        vertical-align: middle;\n",
              "    }\n",
              "\n",
              "    .dataframe tbody tr th {\n",
              "        vertical-align: top;\n",
              "    }\n",
              "\n",
              "    .dataframe thead th {\n",
              "        text-align: right;\n",
              "    }\n",
              "</style>\n",
              "<table border=\"1\" class=\"dataframe\">\n",
              "  <thead>\n",
              "    <tr style=\"text-align: right;\">\n",
              "      <th></th>\n",
              "      <th>date</th>\n",
              "    </tr>\n",
              "  </thead>\n",
              "  <tbody>\n",
              "    <tr>\n",
              "      <th>0</th>\n",
              "      <td>2018-06-01</td>\n",
              "    </tr>\n",
              "    <tr>\n",
              "      <th>1</th>\n",
              "      <td>2018-06-02</td>\n",
              "    </tr>\n",
              "    <tr>\n",
              "      <th>2</th>\n",
              "      <td>2018-06-03</td>\n",
              "    </tr>\n",
              "  </tbody>\n",
              "</table>\n",
              "</div>"
            ],
            "text/plain": [
              "        date\n",
              "0 2018-06-01\n",
              "1 2018-06-02\n",
              "2 2018-06-03"
            ]
          },
          "metadata": {
            "tags": []
          },
          "execution_count": 33
        }
      ]
    },
    {
      "cell_type": "code",
      "metadata": {
        "id": "eEdzlGH-DBYI",
        "colab_type": "code",
        "colab": {
          "base_uri": "https://localhost:8080/",
          "height": 787
        },
        "outputId": "df28a821-6acf-4151-e7f3-4dd3f390f7d5"
      },
      "source": [
        "df[df.index.day == 2]"
      ],
      "execution_count": 34,
      "outputs": [
        {
          "output_type": "execute_result",
          "data": {
            "text/html": [
              "<div>\n",
              "<style scoped>\n",
              "    .dataframe tbody tr th:only-of-type {\n",
              "        vertical-align: middle;\n",
              "    }\n",
              "\n",
              "    .dataframe tbody tr th {\n",
              "        vertical-align: top;\n",
              "    }\n",
              "\n",
              "    .dataframe thead th {\n",
              "        text-align: right;\n",
              "    }\n",
              "</style>\n",
              "<table border=\"1\" class=\"dataframe\">\n",
              "  <thead>\n",
              "    <tr style=\"text-align: right;\">\n",
              "      <th></th>\n",
              "      <th>data</th>\n",
              "    </tr>\n",
              "    <tr>\n",
              "      <th>datetime</th>\n",
              "      <th></th>\n",
              "    </tr>\n",
              "  </thead>\n",
              "  <tbody>\n",
              "    <tr>\n",
              "      <th>2018-01-02 00:00:00</th>\n",
              "      <td>93</td>\n",
              "    </tr>\n",
              "    <tr>\n",
              "      <th>2018-01-02 01:00:00</th>\n",
              "      <td>91</td>\n",
              "    </tr>\n",
              "    <tr>\n",
              "      <th>2018-01-02 02:00:00</th>\n",
              "      <td>80</td>\n",
              "    </tr>\n",
              "    <tr>\n",
              "      <th>2018-01-02 03:00:00</th>\n",
              "      <td>2</td>\n",
              "    </tr>\n",
              "    <tr>\n",
              "      <th>2018-01-02 04:00:00</th>\n",
              "      <td>9</td>\n",
              "    </tr>\n",
              "    <tr>\n",
              "      <th>2018-01-02 05:00:00</th>\n",
              "      <td>76</td>\n",
              "    </tr>\n",
              "    <tr>\n",
              "      <th>2018-01-02 06:00:00</th>\n",
              "      <td>9</td>\n",
              "    </tr>\n",
              "    <tr>\n",
              "      <th>2018-01-02 07:00:00</th>\n",
              "      <td>5</td>\n",
              "    </tr>\n",
              "    <tr>\n",
              "      <th>2018-01-02 08:00:00</th>\n",
              "      <td>2</td>\n",
              "    </tr>\n",
              "    <tr>\n",
              "      <th>2018-01-02 09:00:00</th>\n",
              "      <td>20</td>\n",
              "    </tr>\n",
              "    <tr>\n",
              "      <th>2018-01-02 10:00:00</th>\n",
              "      <td>59</td>\n",
              "    </tr>\n",
              "    <tr>\n",
              "      <th>2018-01-02 11:00:00</th>\n",
              "      <td>69</td>\n",
              "    </tr>\n",
              "    <tr>\n",
              "      <th>2018-01-02 12:00:00</th>\n",
              "      <td>16</td>\n",
              "    </tr>\n",
              "    <tr>\n",
              "      <th>2018-01-02 13:00:00</th>\n",
              "      <td>11</td>\n",
              "    </tr>\n",
              "    <tr>\n",
              "      <th>2018-01-02 14:00:00</th>\n",
              "      <td>71</td>\n",
              "    </tr>\n",
              "    <tr>\n",
              "      <th>2018-01-02 15:00:00</th>\n",
              "      <td>65</td>\n",
              "    </tr>\n",
              "    <tr>\n",
              "      <th>2018-01-02 16:00:00</th>\n",
              "      <td>39</td>\n",
              "    </tr>\n",
              "    <tr>\n",
              "      <th>2018-01-02 17:00:00</th>\n",
              "      <td>18</td>\n",
              "    </tr>\n",
              "    <tr>\n",
              "      <th>2018-01-02 18:00:00</th>\n",
              "      <td>90</td>\n",
              "    </tr>\n",
              "    <tr>\n",
              "      <th>2018-01-02 19:00:00</th>\n",
              "      <td>96</td>\n",
              "    </tr>\n",
              "    <tr>\n",
              "      <th>2018-01-02 20:00:00</th>\n",
              "      <td>59</td>\n",
              "    </tr>\n",
              "    <tr>\n",
              "      <th>2018-01-02 21:00:00</th>\n",
              "      <td>22</td>\n",
              "    </tr>\n",
              "    <tr>\n",
              "      <th>2018-01-02 22:00:00</th>\n",
              "      <td>73</td>\n",
              "    </tr>\n",
              "    <tr>\n",
              "      <th>2018-01-02 23:00:00</th>\n",
              "      <td>47</td>\n",
              "    </tr>\n",
              "  </tbody>\n",
              "</table>\n",
              "</div>"
            ],
            "text/plain": [
              "                     data\n",
              "datetime                 \n",
              "2018-01-02 00:00:00    93\n",
              "2018-01-02 01:00:00    91\n",
              "2018-01-02 02:00:00    80\n",
              "2018-01-02 03:00:00     2\n",
              "2018-01-02 04:00:00     9\n",
              "2018-01-02 05:00:00    76\n",
              "2018-01-02 06:00:00     9\n",
              "2018-01-02 07:00:00     5\n",
              "2018-01-02 08:00:00     2\n",
              "2018-01-02 09:00:00    20\n",
              "2018-01-02 10:00:00    59\n",
              "2018-01-02 11:00:00    69\n",
              "2018-01-02 12:00:00    16\n",
              "2018-01-02 13:00:00    11\n",
              "2018-01-02 14:00:00    71\n",
              "2018-01-02 15:00:00    65\n",
              "2018-01-02 16:00:00    39\n",
              "2018-01-02 17:00:00    18\n",
              "2018-01-02 18:00:00    90\n",
              "2018-01-02 19:00:00    96\n",
              "2018-01-02 20:00:00    59\n",
              "2018-01-02 21:00:00    22\n",
              "2018-01-02 22:00:00    73\n",
              "2018-01-02 23:00:00    47"
            ]
          },
          "metadata": {
            "tags": []
          },
          "execution_count": 34
        }
      ]
    },
    {
      "cell_type": "code",
      "metadata": {
        "id": "4n_gmrYeDF8A",
        "colab_type": "code",
        "colab": {
          "base_uri": "https://localhost:8080/",
          "height": 314
        },
        "outputId": "df10b483-daae-4736-9f8e-e5f7ed7edca9"
      },
      "source": [
        "df.resample('D').mean()"
      ],
      "execution_count": 35,
      "outputs": [
        {
          "output_type": "execute_result",
          "data": {
            "text/html": [
              "<div>\n",
              "<style scoped>\n",
              "    .dataframe tbody tr th:only-of-type {\n",
              "        vertical-align: middle;\n",
              "    }\n",
              "\n",
              "    .dataframe tbody tr th {\n",
              "        vertical-align: top;\n",
              "    }\n",
              "\n",
              "    .dataframe thead th {\n",
              "        text-align: right;\n",
              "    }\n",
              "</style>\n",
              "<table border=\"1\" class=\"dataframe\">\n",
              "  <thead>\n",
              "    <tr style=\"text-align: right;\">\n",
              "      <th></th>\n",
              "      <th>data</th>\n",
              "    </tr>\n",
              "    <tr>\n",
              "      <th>datetime</th>\n",
              "      <th></th>\n",
              "    </tr>\n",
              "  </thead>\n",
              "  <tbody>\n",
              "    <tr>\n",
              "      <th>2018-01-01</th>\n",
              "      <td>48.000000</td>\n",
              "    </tr>\n",
              "    <tr>\n",
              "      <th>2018-01-02</th>\n",
              "      <td>46.750000</td>\n",
              "    </tr>\n",
              "    <tr>\n",
              "      <th>2018-01-03</th>\n",
              "      <td>36.125000</td>\n",
              "    </tr>\n",
              "    <tr>\n",
              "      <th>2018-01-04</th>\n",
              "      <td>53.166667</td>\n",
              "    </tr>\n",
              "    <tr>\n",
              "      <th>2018-01-05</th>\n",
              "      <td>47.791667</td>\n",
              "    </tr>\n",
              "    <tr>\n",
              "      <th>2018-01-06</th>\n",
              "      <td>62.208333</td>\n",
              "    </tr>\n",
              "    <tr>\n",
              "      <th>2018-01-07</th>\n",
              "      <td>58.041667</td>\n",
              "    </tr>\n",
              "    <tr>\n",
              "      <th>2018-01-08</th>\n",
              "      <td>61.000000</td>\n",
              "    </tr>\n",
              "  </tbody>\n",
              "</table>\n",
              "</div>"
            ],
            "text/plain": [
              "                 data\n",
              "datetime             \n",
              "2018-01-01  48.000000\n",
              "2018-01-02  46.750000\n",
              "2018-01-03  36.125000\n",
              "2018-01-04  53.166667\n",
              "2018-01-05  47.791667\n",
              "2018-01-06  62.208333\n",
              "2018-01-07  58.041667\n",
              "2018-01-08  61.000000"
            ]
          },
          "metadata": {
            "tags": []
          },
          "execution_count": 35
        }
      ]
    },
    {
      "cell_type": "code",
      "metadata": {
        "id": "tx20JVO5DK_v",
        "colab_type": "code",
        "colab": {
          "base_uri": "https://localhost:8080/",
          "height": 373
        },
        "outputId": "1642b92a-498f-46cf-ef18-5b392fe94f1f"
      },
      "source": [
        "df['rolling_sum'] = df.rolling(3).sum()\n",
        "df.head(10)"
      ],
      "execution_count": 36,
      "outputs": [
        {
          "output_type": "execute_result",
          "data": {
            "text/html": [
              "<div>\n",
              "<style scoped>\n",
              "    .dataframe tbody tr th:only-of-type {\n",
              "        vertical-align: middle;\n",
              "    }\n",
              "\n",
              "    .dataframe tbody tr th {\n",
              "        vertical-align: top;\n",
              "    }\n",
              "\n",
              "    .dataframe thead th {\n",
              "        text-align: right;\n",
              "    }\n",
              "</style>\n",
              "<table border=\"1\" class=\"dataframe\">\n",
              "  <thead>\n",
              "    <tr style=\"text-align: right;\">\n",
              "      <th></th>\n",
              "      <th>data</th>\n",
              "      <th>rolling_sum</th>\n",
              "    </tr>\n",
              "    <tr>\n",
              "      <th>datetime</th>\n",
              "      <th></th>\n",
              "      <th></th>\n",
              "    </tr>\n",
              "  </thead>\n",
              "  <tbody>\n",
              "    <tr>\n",
              "      <th>2018-01-01 00:00:00</th>\n",
              "      <td>60</td>\n",
              "      <td>NaN</td>\n",
              "    </tr>\n",
              "    <tr>\n",
              "      <th>2018-01-01 01:00:00</th>\n",
              "      <td>66</td>\n",
              "      <td>NaN</td>\n",
              "    </tr>\n",
              "    <tr>\n",
              "      <th>2018-01-01 02:00:00</th>\n",
              "      <td>73</td>\n",
              "      <td>199.0</td>\n",
              "    </tr>\n",
              "    <tr>\n",
              "      <th>2018-01-01 03:00:00</th>\n",
              "      <td>14</td>\n",
              "      <td>153.0</td>\n",
              "    </tr>\n",
              "    <tr>\n",
              "      <th>2018-01-01 04:00:00</th>\n",
              "      <td>90</td>\n",
              "      <td>177.0</td>\n",
              "    </tr>\n",
              "    <tr>\n",
              "      <th>2018-01-01 05:00:00</th>\n",
              "      <td>60</td>\n",
              "      <td>164.0</td>\n",
              "    </tr>\n",
              "    <tr>\n",
              "      <th>2018-01-01 06:00:00</th>\n",
              "      <td>86</td>\n",
              "      <td>236.0</td>\n",
              "    </tr>\n",
              "    <tr>\n",
              "      <th>2018-01-01 07:00:00</th>\n",
              "      <td>93</td>\n",
              "      <td>239.0</td>\n",
              "    </tr>\n",
              "    <tr>\n",
              "      <th>2018-01-01 08:00:00</th>\n",
              "      <td>8</td>\n",
              "      <td>187.0</td>\n",
              "    </tr>\n",
              "    <tr>\n",
              "      <th>2018-01-01 09:00:00</th>\n",
              "      <td>18</td>\n",
              "      <td>119.0</td>\n",
              "    </tr>\n",
              "  </tbody>\n",
              "</table>\n",
              "</div>"
            ],
            "text/plain": [
              "                     data  rolling_sum\n",
              "datetime                              \n",
              "2018-01-01 00:00:00    60          NaN\n",
              "2018-01-01 01:00:00    66          NaN\n",
              "2018-01-01 02:00:00    73        199.0\n",
              "2018-01-01 03:00:00    14        153.0\n",
              "2018-01-01 04:00:00    90        177.0\n",
              "2018-01-01 05:00:00    60        164.0\n",
              "2018-01-01 06:00:00    86        236.0\n",
              "2018-01-01 07:00:00    93        239.0\n",
              "2018-01-01 08:00:00     8        187.0\n",
              "2018-01-01 09:00:00    18        119.0"
            ]
          },
          "metadata": {
            "tags": []
          },
          "execution_count": 36
        }
      ]
    },
    {
      "cell_type": "code",
      "metadata": {
        "id": "YX41s3bMDffd",
        "colab_type": "code",
        "colab": {
          "base_uri": "https://localhost:8080/",
          "height": 373
        },
        "outputId": "106ae864-8aad-494d-cf22-bb63ecd0b50c"
      },
      "source": [
        "df['rolling_sum_backfilled'] = df['rolling_sum'].fillna(method='backfill')\n",
        "df.head(10)"
      ],
      "execution_count": 37,
      "outputs": [
        {
          "output_type": "execute_result",
          "data": {
            "text/html": [
              "<div>\n",
              "<style scoped>\n",
              "    .dataframe tbody tr th:only-of-type {\n",
              "        vertical-align: middle;\n",
              "    }\n",
              "\n",
              "    .dataframe tbody tr th {\n",
              "        vertical-align: top;\n",
              "    }\n",
              "\n",
              "    .dataframe thead th {\n",
              "        text-align: right;\n",
              "    }\n",
              "</style>\n",
              "<table border=\"1\" class=\"dataframe\">\n",
              "  <thead>\n",
              "    <tr style=\"text-align: right;\">\n",
              "      <th></th>\n",
              "      <th>data</th>\n",
              "      <th>rolling_sum</th>\n",
              "      <th>rolling_sum_backfilled</th>\n",
              "    </tr>\n",
              "    <tr>\n",
              "      <th>datetime</th>\n",
              "      <th></th>\n",
              "      <th></th>\n",
              "      <th></th>\n",
              "    </tr>\n",
              "  </thead>\n",
              "  <tbody>\n",
              "    <tr>\n",
              "      <th>2018-01-01 00:00:00</th>\n",
              "      <td>60</td>\n",
              "      <td>NaN</td>\n",
              "      <td>199.0</td>\n",
              "    </tr>\n",
              "    <tr>\n",
              "      <th>2018-01-01 01:00:00</th>\n",
              "      <td>66</td>\n",
              "      <td>NaN</td>\n",
              "      <td>199.0</td>\n",
              "    </tr>\n",
              "    <tr>\n",
              "      <th>2018-01-01 02:00:00</th>\n",
              "      <td>73</td>\n",
              "      <td>199.0</td>\n",
              "      <td>199.0</td>\n",
              "    </tr>\n",
              "    <tr>\n",
              "      <th>2018-01-01 03:00:00</th>\n",
              "      <td>14</td>\n",
              "      <td>153.0</td>\n",
              "      <td>153.0</td>\n",
              "    </tr>\n",
              "    <tr>\n",
              "      <th>2018-01-01 04:00:00</th>\n",
              "      <td>90</td>\n",
              "      <td>177.0</td>\n",
              "      <td>177.0</td>\n",
              "    </tr>\n",
              "    <tr>\n",
              "      <th>2018-01-01 05:00:00</th>\n",
              "      <td>60</td>\n",
              "      <td>164.0</td>\n",
              "      <td>164.0</td>\n",
              "    </tr>\n",
              "    <tr>\n",
              "      <th>2018-01-01 06:00:00</th>\n",
              "      <td>86</td>\n",
              "      <td>236.0</td>\n",
              "      <td>236.0</td>\n",
              "    </tr>\n",
              "    <tr>\n",
              "      <th>2018-01-01 07:00:00</th>\n",
              "      <td>93</td>\n",
              "      <td>239.0</td>\n",
              "      <td>239.0</td>\n",
              "    </tr>\n",
              "    <tr>\n",
              "      <th>2018-01-01 08:00:00</th>\n",
              "      <td>8</td>\n",
              "      <td>187.0</td>\n",
              "      <td>187.0</td>\n",
              "    </tr>\n",
              "    <tr>\n",
              "      <th>2018-01-01 09:00:00</th>\n",
              "      <td>18</td>\n",
              "      <td>119.0</td>\n",
              "      <td>119.0</td>\n",
              "    </tr>\n",
              "  </tbody>\n",
              "</table>\n",
              "</div>"
            ],
            "text/plain": [
              "                     data  rolling_sum  rolling_sum_backfilled\n",
              "datetime                                                      \n",
              "2018-01-01 00:00:00    60          NaN                   199.0\n",
              "2018-01-01 01:00:00    66          NaN                   199.0\n",
              "2018-01-01 02:00:00    73        199.0                   199.0\n",
              "2018-01-01 03:00:00    14        153.0                   153.0\n",
              "2018-01-01 04:00:00    90        177.0                   177.0\n",
              "2018-01-01 05:00:00    60        164.0                   164.0\n",
              "2018-01-01 06:00:00    86        236.0                   236.0\n",
              "2018-01-01 07:00:00    93        239.0                   239.0\n",
              "2018-01-01 08:00:00     8        187.0                   187.0\n",
              "2018-01-01 09:00:00    18        119.0                   119.0"
            ]
          },
          "metadata": {
            "tags": []
          },
          "execution_count": 37
        }
      ]
    },
    {
      "cell_type": "code",
      "metadata": {
        "id": "Srt0nq8NDoIM",
        "colab_type": "code",
        "colab": {
          "base_uri": "https://localhost:8080/",
          "height": 34
        },
        "outputId": "bfe4dcb0-6efa-4b24-f630-7d4c5d9981a5"
      },
      "source": [
        "epoch_t = 1529272655\n",
        "real_t = pd.to_datetime(epoch_t, unit='s')\n",
        "real_t"
      ],
      "execution_count": 38,
      "outputs": [
        {
          "output_type": "execute_result",
          "data": {
            "text/plain": [
              "Timestamp('2018-06-17 21:57:35')"
            ]
          },
          "metadata": {
            "tags": []
          },
          "execution_count": 38
        }
      ]
    },
    {
      "cell_type": "code",
      "metadata": {
        "id": "dVVZkLSiFOFt",
        "colab_type": "code",
        "colab": {
          "base_uri": "https://localhost:8080/",
          "height": 34
        },
        "outputId": "1e660de4-6565-44a9-bd75-261b1a710b13"
      },
      "source": [
        "real_t.tz_localize('UTC').tz_convert('US/Pacific')\n"
      ],
      "execution_count": 39,
      "outputs": [
        {
          "output_type": "execute_result",
          "data": {
            "text/plain": [
              "Timestamp('2018-06-17 14:57:35-0700', tz='US/Pacific')"
            ]
          },
          "metadata": {
            "tags": []
          },
          "execution_count": 39
        }
      ]
    },
    {
      "cell_type": "code",
      "metadata": {
        "id": "ULv1Hl7EFk5K",
        "colab_type": "code",
        "colab": {
          "base_uri": "https://localhost:8080/",
          "height": 323
        },
        "outputId": "d04492a0-5e9d-4a20-b8d4-3a1f9ce33647"
      },
      "source": [
        "df['data'].plot()"
      ],
      "execution_count": 41,
      "outputs": [
        {
          "output_type": "execute_result",
          "data": {
            "text/plain": [
              "<matplotlib.axes._subplots.AxesSubplot at 0x7f8c29d39b38>"
            ]
          },
          "metadata": {
            "tags": []
          },
          "execution_count": 41
        },
        {
          "output_type": "display_data",
          "data": {
            "image/png": "[encoded data removed]",
            "text/plain": [
              "<Figure size 432x288 with 1 Axes>"
            ]
          },
          "metadata": {
            "tags": []
          }
        }
      ]
    },
    {
      "cell_type": "code",
      "metadata": {
        "id": "zmubTChsG7_m",
        "colab_type": "code",
        "colab": {
          "base_uri": "https://localhost:8080/",
          "height": 286
        },
        "outputId": "5a62bcad-0bf9-4199-98fe-70eb7b624a1a"
      },
      "source": [
        "plt.plot(df.index, df.data)"
      ],
      "execution_count": 42,
      "outputs": [
        {
          "output_type": "execute_result",
          "data": {
            "text/plain": [
              "[<matplotlib.lines.Line2D at 0x7f8c29ccdda0>]"
            ]
          },
          "metadata": {
            "tags": []
          },
          "execution_count": 42
        },
        {
          "output_type": "display_data",
          "data": {
            "image/png": "[encoded data removed]",
            "text/plain": [
              "<Figure size 432x288 with 1 Axes>"
            ]
          },
          "metadata": {
            "tags": []
          }
        }
      ]
    },
    {
      "cell_type": "code",
      "metadata": {
        "id": "w8aXpBnLHCr-",
        "colab_type": "code",
        "colab": {}
      },
      "source": [
        ""
      ],
      "execution_count": 0,
      "outputs": []
    }
  ]
}
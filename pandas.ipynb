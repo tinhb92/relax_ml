{
  "nbformat": 4,
  "nbformat_minor": 0,
  "metadata": {
    "colab": {
      "name": "pandas.ipynb",
      "version": "0.3.2",
      "provenance": [],
      "collapsed_sections": []
    },
    "kernelspec": {
      "name": "python3",
      "display_name": "Python 3"
    }
  },
  "cells": [
    {
      "cell_type": "code",
      "metadata": {
        "id": "PC-n0pVPX3Zg",
        "colab_type": "code",
        "colab": {}
      },
      "source": [
        "import numpy as np\n",
        "import pandas as pd"
      ],
      "execution_count": 0,
      "outputs": []
    },
    {
      "cell_type": "code",
      "metadata": {
        "id": "xymdcWJLYBoH",
        "colab_type": "code",
        "colab": {}
      },
      "source": [
        "s = pd.Series([1, 3, 5, np.nan, 6, 8])"
      ],
      "execution_count": 0,
      "outputs": []
    },
    {
      "cell_type": "code",
      "metadata": {
        "id": "1hOfmcXzYYTK",
        "colab_type": "code",
        "colab": {
          "base_uri": "https://localhost:8080/",
          "height": 136
        },
        "outputId": "c4407a7a-bb38-46d2-edfd-c90b84fe2d91"
      },
      "source": [
        "s"
      ],
      "execution_count": 5,
      "outputs": [
        {
          "output_type": "execute_result",
          "data": {
            "text/plain": [
              "0    1.0\n",
              "1    3.0\n",
              "2    5.0\n",
              "3    NaN\n",
              "4    6.0\n",
              "5    8.0\n",
              "dtype: float64"
            ]
          },
          "metadata": {
            "tags": []
          },
          "execution_count": 5
        }
      ]
    },
    {
      "cell_type": "code",
      "metadata": {
        "id": "GNTCUvXIYcVE",
        "colab_type": "code",
        "colab": {}
      },
      "source": [
        "dates = pd.date_range('20130101', periods=6)"
      ],
      "execution_count": 0,
      "outputs": []
    },
    {
      "cell_type": "code",
      "metadata": {
        "id": "F97HOSOUY-7m",
        "colab_type": "code",
        "colab": {}
      },
      "source": [
        "?dates"
      ],
      "execution_count": 0,
      "outputs": []
    },
    {
      "cell_type": "code",
      "metadata": {
        "id": "5E4xTkE5ZD2b",
        "colab_type": "code",
        "colab": {
          "base_uri": "https://localhost:8080/",
          "height": 34
        },
        "outputId": "33113284-e9f6-4e92-dd32-e6d31a7b188e"
      },
      "source": [
        "type(dates)"
      ],
      "execution_count": 11,
      "outputs": [
        {
          "output_type": "execute_result",
          "data": {
            "text/plain": [
              "pandas.core.indexes.datetimes.DatetimeIndex"
            ]
          },
          "metadata": {
            "tags": []
          },
          "execution_count": 11
        }
      ]
    },
    {
      "cell_type": "markdown",
      "metadata": {
        "id": "EMoP8RuZab9Y",
        "colab_type": "text"
      },
      "source": [
        "If Swift,\n",
        "dates: DatetimeIndex"
      ]
    },
    {
      "cell_type": "code",
      "metadata": {
        "id": "v6Mj5b01aIme",
        "colab_type": "code",
        "colab": {
          "base_uri": "https://localhost:8080/",
          "height": 34
        },
        "outputId": "617b497c-1c4c-4e7a-c33e-7491b1b1113a"
      },
      "source": [
        "?pandas.core.indexes.datetimes.DatetimeIndex"
      ],
      "execution_count": 12,
      "outputs": [
        {
          "output_type": "stream",
          "text": [
            "Object `pandas.core.indexes.datetimes.DatetimeIndex` not found.\n"
          ],
          "name": "stdout"
        }
      ]
    },
    {
      "cell_type": "code",
      "metadata": {
        "id": "oEf0Yx7Bakbt",
        "colab_type": "code",
        "colab": {}
      },
      "source": [
        "df = pd.DataFrame(np.random.randn(6, 4), index=dates, columns=list('ABCD'))"
      ],
      "execution_count": 0,
      "outputs": []
    },
    {
      "cell_type": "code",
      "metadata": {
        "id": "EfQ0rC5pcw_0",
        "colab_type": "code",
        "colab": {
          "base_uri": "https://localhost:8080/",
          "height": 119
        },
        "outputId": "3bffd57b-d76a-4103-f850-09e5a0e3f72e"
      },
      "source": [
        "np.random.randn(6, 4)"
      ],
      "execution_count": 16,
      "outputs": [
        {
          "output_type": "execute_result",
          "data": {
            "text/plain": [
              "array([[ 0.4485012 ,  0.16523674,  0.34297317,  0.81910756],\n",
              "       [ 0.42003111,  1.15772487, -1.13230257,  0.0244729 ],\n",
              "       [ 0.64418988, -0.01562323, -0.72490516,  1.78931388],\n",
              "       [-1.37848346, -0.91339589, -0.99620904,  0.62151213],\n",
              "       [ 0.68721405, -0.79270183,  1.82519531, -0.56618059],\n",
              "       [-0.61045477,  0.50708714,  0.43483799,  0.11607309]])"
            ]
          },
          "metadata": {
            "tags": []
          },
          "execution_count": 16
        }
      ]
    },
    {
      "cell_type": "code",
      "metadata": {
        "id": "MCGGwvfOb7dg",
        "colab_type": "code",
        "colab": {
          "base_uri": "https://localhost:8080/",
          "height": 235
        },
        "outputId": "3e8256c5-5ab4-42ae-a00e-ff91b6560a1f"
      },
      "source": [
        "pd.DataFrame(np.random.randn(6, 4))"
      ],
      "execution_count": 19,
      "outputs": [
        {
          "output_type": "execute_result",
          "data": {
            "text/html": [
              "<div>\n",
              "<style scoped>\n",
              "    .dataframe tbody tr th:only-of-type {\n",
              "        vertical-align: middle;\n",
              "    }\n",
              "\n",
              "    .dataframe tbody tr th {\n",
              "        vertical-align: top;\n",
              "    }\n",
              "\n",
              "    .dataframe thead th {\n",
              "        text-align: right;\n",
              "    }\n",
              "</style>\n",
              "<table border=\"1\" class=\"dataframe\">\n",
              "  <thead>\n",
              "    <tr style=\"text-align: right;\">\n",
              "      <th></th>\n",
              "      <th>0</th>\n",
              "      <th>1</th>\n",
              "      <th>2</th>\n",
              "      <th>3</th>\n",
              "    </tr>\n",
              "  </thead>\n",
              "  <tbody>\n",
              "    <tr>\n",
              "      <th>0</th>\n",
              "      <td>1.378905</td>\n",
              "      <td>-3.666295</td>\n",
              "      <td>0.471680</td>\n",
              "      <td>0.295816</td>\n",
              "    </tr>\n",
              "    <tr>\n",
              "      <th>1</th>\n",
              "      <td>0.556724</td>\n",
              "      <td>-0.526418</td>\n",
              "      <td>-0.021563</td>\n",
              "      <td>1.569599</td>\n",
              "    </tr>\n",
              "    <tr>\n",
              "      <th>2</th>\n",
              "      <td>-1.927539</td>\n",
              "      <td>-0.448817</td>\n",
              "      <td>-0.404757</td>\n",
              "      <td>1.890232</td>\n",
              "    </tr>\n",
              "    <tr>\n",
              "      <th>3</th>\n",
              "      <td>1.135958</td>\n",
              "      <td>-1.079036</td>\n",
              "      <td>0.780849</td>\n",
              "      <td>-1.034051</td>\n",
              "    </tr>\n",
              "    <tr>\n",
              "      <th>4</th>\n",
              "      <td>-0.247761</td>\n",
              "      <td>0.644096</td>\n",
              "      <td>0.073812</td>\n",
              "      <td>2.010138</td>\n",
              "    </tr>\n",
              "    <tr>\n",
              "      <th>5</th>\n",
              "      <td>-0.805549</td>\n",
              "      <td>-2.692250</td>\n",
              "      <td>1.986446</td>\n",
              "      <td>1.230612</td>\n",
              "    </tr>\n",
              "  </tbody>\n",
              "</table>\n",
              "</div>"
            ],
            "text/plain": [
              "          0         1         2         3\n",
              "0  1.378905 -3.666295  0.471680  0.295816\n",
              "1  0.556724 -0.526418 -0.021563  1.569599\n",
              "2 -1.927539 -0.448817 -0.404757  1.890232\n",
              "3  1.135958 -1.079036  0.780849 -1.034051\n",
              "4 -0.247761  0.644096  0.073812  2.010138\n",
              "5 -0.805549 -2.692250  1.986446  1.230612"
            ]
          },
          "metadata": {
            "tags": []
          },
          "execution_count": 19
        }
      ]
    },
    {
      "cell_type": "code",
      "metadata": {
        "id": "uVh9kauYcAIz",
        "colab_type": "code",
        "colab": {
          "base_uri": "https://localhost:8080/",
          "height": 235
        },
        "outputId": "7a0782cb-ebc6-402d-b4e0-06380c8215e5"
      },
      "source": [
        "df"
      ],
      "execution_count": 15,
      "outputs": [
        {
          "output_type": "execute_result",
          "data": {
            "text/html": [
              "<div>\n",
              "<style scoped>\n",
              "    .dataframe tbody tr th:only-of-type {\n",
              "        vertical-align: middle;\n",
              "    }\n",
              "\n",
              "    .dataframe tbody tr th {\n",
              "        vertical-align: top;\n",
              "    }\n",
              "\n",
              "    .dataframe thead th {\n",
              "        text-align: right;\n",
              "    }\n",
              "</style>\n",
              "<table border=\"1\" class=\"dataframe\">\n",
              "  <thead>\n",
              "    <tr style=\"text-align: right;\">\n",
              "      <th></th>\n",
              "      <th>A</th>\n",
              "      <th>B</th>\n",
              "      <th>C</th>\n",
              "      <th>D</th>\n",
              "    </tr>\n",
              "  </thead>\n",
              "  <tbody>\n",
              "    <tr>\n",
              "      <th>2013-01-01</th>\n",
              "      <td>1.432444</td>\n",
              "      <td>0.250777</td>\n",
              "      <td>0.594709</td>\n",
              "      <td>1.582734</td>\n",
              "    </tr>\n",
              "    <tr>\n",
              "      <th>2013-01-02</th>\n",
              "      <td>-0.547449</td>\n",
              "      <td>0.338228</td>\n",
              "      <td>1.169934</td>\n",
              "      <td>-0.025597</td>\n",
              "    </tr>\n",
              "    <tr>\n",
              "      <th>2013-01-03</th>\n",
              "      <td>-0.006986</td>\n",
              "      <td>0.867418</td>\n",
              "      <td>0.344378</td>\n",
              "      <td>-0.131351</td>\n",
              "    </tr>\n",
              "    <tr>\n",
              "      <th>2013-01-04</th>\n",
              "      <td>1.081232</td>\n",
              "      <td>0.638191</td>\n",
              "      <td>1.220149</td>\n",
              "      <td>-0.717000</td>\n",
              "    </tr>\n",
              "    <tr>\n",
              "      <th>2013-01-05</th>\n",
              "      <td>0.485208</td>\n",
              "      <td>-0.191393</td>\n",
              "      <td>-0.159903</td>\n",
              "      <td>0.857679</td>\n",
              "    </tr>\n",
              "    <tr>\n",
              "      <th>2013-01-06</th>\n",
              "      <td>0.061175</td>\n",
              "      <td>-1.437737</td>\n",
              "      <td>0.034810</td>\n",
              "      <td>0.549751</td>\n",
              "    </tr>\n",
              "  </tbody>\n",
              "</table>\n",
              "</div>"
            ],
            "text/plain": [
              "                   A         B         C         D\n",
              "2013-01-01  1.432444  0.250777  0.594709  1.582734\n",
              "2013-01-02 -0.547449  0.338228  1.169934 -0.025597\n",
              "2013-01-03 -0.006986  0.867418  0.344378 -0.131351\n",
              "2013-01-04  1.081232  0.638191  1.220149 -0.717000\n",
              "2013-01-05  0.485208 -0.191393 -0.159903  0.857679\n",
              "2013-01-06  0.061175 -1.437737  0.034810  0.549751"
            ]
          },
          "metadata": {
            "tags": []
          },
          "execution_count": 15
        }
      ]
    },
    {
      "cell_type": "markdown",
      "metadata": {
        "id": "zwXKysHWcJ1L",
        "colab_type": "text"
      },
      "source": [
        "Play around with df above to get a feel for pandas\n",
        "\n",
        "Like play round with mnist/imagenette\n"
      ]
    },
    {
      "cell_type": "code",
      "metadata": {
        "id": "5JTLPk_bcBG8",
        "colab_type": "code",
        "colab": {}
      },
      "source": [
        "df2 = pd.DataFrame({'A': 1.,\n",
        "                    'B': pd.Timestamp('20130102'),\n",
        "                    'C': pd.Series(1, index=list(range(4)), dtype='float32'),\n",
        "                    'D': np.array([3] * 4, dtype='int32'),\n",
        "                    'E': pd.Categorical([\"test\", \"train\", \"test\", \"train\"]),\n",
        "                    'F': 'foo'})"
      ],
      "execution_count": 0,
      "outputs": []
    },
    {
      "cell_type": "code",
      "metadata": {
        "id": "Ag3wrH_kfaGx",
        "colab_type": "code",
        "colab": {}
      },
      "source": [
        ""
      ],
      "execution_count": 0,
      "outputs": []
    }
  ]
}
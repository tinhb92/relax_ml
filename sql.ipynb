{
  "nbformat": 4,
  "nbformat_minor": 0,
  "metadata": {
    "colab": {
      "name": "sql",
      "provenance": [],
      "collapsed_sections": [],
      "include_colab_link": true
    },
    "kernelspec": {
      "name": "python3",
      "display_name": "Python 3"
    }
  },
  "cells": [
    {
      "cell_type": "markdown",
      "metadata": {
        "id": "view-in-github",
        "colab_type": "text"
      },
      "source": [
        "<a href=\"https://colab.research.google.com/github/tinhb92/relax_ml/blob/master/sql.ipynb\" target=\"_parent\"><img src=\"https://colab.research.google.com/assets/colab-badge.svg\" alt=\"Open In Colab\"/></a>"
      ]
    },
    {
      "cell_type": "code",
      "metadata": {
        "id": "v_TjainY-A-n",
        "colab_type": "code",
        "outputId": "f6bec9a8-797c-43e0-aa55-eb83fc4dbe09",
        "colab": {
          "base_uri": "https://localhost:8080/",
          "height": 289
        }
      },
      "source": [
        "! pip install -U pandasql"
      ],
      "execution_count": 1,
      "outputs": [
        {
          "output_type": "stream",
          "text": [
            "Collecting pandasql\n",
            "  Downloading https://files.pythonhosted.org/packages/6b/c4/ee4096ffa2eeeca0c749b26f0371bd26aa5c8b611c43de99a4f86d3de0a7/pandasql-0.7.3.tar.gz\n",
            "Requirement already satisfied, skipping upgrade: numpy in /usr/local/lib/python3.6/dist-packages (from pandasql) (1.16.5)\n",
            "Requirement already satisfied, skipping upgrade: pandas in /usr/local/lib/python3.6/dist-packages (from pandasql) (0.24.2)\n",
            "Requirement already satisfied, skipping upgrade: sqlalchemy in /usr/local/lib/python3.6/dist-packages (from pandasql) (1.3.8)\n",
            "Requirement already satisfied, skipping upgrade: pytz>=2011k in /usr/local/lib/python3.6/dist-packages (from pandas->pandasql) (2018.9)\n",
            "Requirement already satisfied, skipping upgrade: python-dateutil>=2.5.0 in /usr/local/lib/python3.6/dist-packages (from pandas->pandasql) (2.5.3)\n",
            "Requirement already satisfied, skipping upgrade: six>=1.5 in /usr/local/lib/python3.6/dist-packages (from python-dateutil>=2.5.0->pandas->pandasql) (1.12.0)\n",
            "Building wheels for collected packages: pandasql\n",
            "  Building wheel for pandasql (setup.py) ... \u001b[?25l\u001b[?25hdone\n",
            "  Created wheel for pandasql: filename=pandasql-0.7.3-cp36-none-any.whl size=26820 sha256=d916e97aa6b6af3e5f4950a97b76a99941981a2daf6dcb51ceaee49e5d8af614\n",
            "  Stored in directory: /root/.cache/pip/wheels/53/6c/18/b87a2e5fa8a82e9c026311de56210b8d1c01846e18a9607fc9\n",
            "Successfully built pandasql\n",
            "Installing collected packages: pandasql\n",
            "Successfully installed pandasql-0.7.3\n"
          ],
          "name": "stdout"
        }
      ]
    },
    {
      "cell_type": "code",
      "metadata": {
        "id": "zjf8qf2g-UVn",
        "colab_type": "code",
        "colab": {}
      },
      "source": [
        "from pandasql import sqldf, load_meat, load_births"
      ],
      "execution_count": 0,
      "outputs": []
    },
    {
      "cell_type": "code",
      "metadata": {
        "id": "LcT8SX7S-Wng",
        "colab_type": "code",
        "colab": {}
      },
      "source": [
        "pysqldf = lambda q: sqldf(q, globals())"
      ],
      "execution_count": 0,
      "outputs": []
    },
    {
      "cell_type": "code",
      "metadata": {
        "id": "cXlcNxkMAQ9f",
        "colab_type": "code",
        "colab": {}
      },
      "source": [
        "births = load_births()"
      ],
      "execution_count": 0,
      "outputs": []
    },
    {
      "cell_type": "code",
      "metadata": {
        "id": "oCfHHNNPCHWu",
        "colab_type": "code",
        "outputId": "a7f2cb28-4b92-4fd0-da8b-62b956878703",
        "colab": {
          "base_uri": "https://localhost:8080/",
          "height": 195
        }
      },
      "source": [
        "pysqldf(\"SELECT beef FROM meat WHERE beef>751\").head()"
      ],
      "execution_count": 0,
      "outputs": [
        {
          "output_type": "execute_result",
          "data": {
            "text/html": [
              "<div>\n",
              "<style scoped>\n",
              "    .dataframe tbody tr th:only-of-type {\n",
              "        vertical-align: middle;\n",
              "    }\n",
              "\n",
              "    .dataframe tbody tr th {\n",
              "        vertical-align: top;\n",
              "    }\n",
              "\n",
              "    .dataframe thead th {\n",
              "        text-align: right;\n",
              "    }\n",
              "</style>\n",
              "<table border=\"1\" class=\"dataframe\">\n",
              "  <thead>\n",
              "    <tr style=\"text-align: right;\">\n",
              "      <th></th>\n",
              "      <th>beef</th>\n",
              "    </tr>\n",
              "  </thead>\n",
              "  <tbody>\n",
              "    <tr>\n",
              "      <th>0</th>\n",
              "      <td>787.0</td>\n",
              "    </tr>\n",
              "    <tr>\n",
              "      <th>1</th>\n",
              "      <td>774.0</td>\n",
              "    </tr>\n",
              "    <tr>\n",
              "      <th>2</th>\n",
              "      <td>834.0</td>\n",
              "    </tr>\n",
              "    <tr>\n",
              "      <th>3</th>\n",
              "      <td>786.0</td>\n",
              "    </tr>\n",
              "    <tr>\n",
              "      <th>4</th>\n",
              "      <td>764.0</td>\n",
              "    </tr>\n",
              "  </tbody>\n",
              "</table>\n",
              "</div>"
            ],
            "text/plain": [
              "    beef\n",
              "0  787.0\n",
              "1  774.0\n",
              "2  834.0\n",
              "3  786.0\n",
              "4  764.0"
            ]
          },
          "metadata": {
            "tags": []
          },
          "execution_count": 12
        }
      ]
    },
    {
      "cell_type": "code",
      "metadata": {
        "id": "LGPNd09GBvQ-",
        "colab_type": "code",
        "outputId": "ef58e005-395c-444d-d9e1-fc307ae37bed",
        "colab": {
          "base_uri": "https://localhost:8080/",
          "height": 77
        }
      },
      "source": [
        "pysqldf(\"SELECT SUM(CASE When beef>751 Then 1 Else 0 End ) as sum_beef FROM meat;\").head()"
      ],
      "execution_count": 0,
      "outputs": [
        {
          "output_type": "execute_result",
          "data": {
            "text/html": [
              "<div>\n",
              "<style scoped>\n",
              "    .dataframe tbody tr th:only-of-type {\n",
              "        vertical-align: middle;\n",
              "    }\n",
              "\n",
              "    .dataframe tbody tr th {\n",
              "        vertical-align: top;\n",
              "    }\n",
              "\n",
              "    .dataframe thead th {\n",
              "        text-align: right;\n",
              "    }\n",
              "</style>\n",
              "<table border=\"1\" class=\"dataframe\">\n",
              "  <thead>\n",
              "    <tr style=\"text-align: right;\">\n",
              "      <th></th>\n",
              "      <th>sum_beef</th>\n",
              "    </tr>\n",
              "  </thead>\n",
              "  <tbody>\n",
              "    <tr>\n",
              "      <th>0</th>\n",
              "      <td>783</td>\n",
              "    </tr>\n",
              "  </tbody>\n",
              "</table>\n",
              "</div>"
            ],
            "text/plain": [
              "   sum_beef\n",
              "0       783"
            ]
          },
          "metadata": {
            "tags": []
          },
          "execution_count": 13
        }
      ]
    },
    {
      "cell_type": "code",
      "metadata": {
        "id": "GkJFu_cCEljj",
        "colab_type": "code",
        "outputId": "e96c93e0-bbcf-4b5f-8e26-7be6eb351676",
        "colab": {
          "base_uri": "https://localhost:8080/",
          "height": 77
        }
      },
      "source": [
        "pysqldf(\"SELECT SUM(CASE When beef>751 Then beef Else 0 End ) as sum_beef FROM meat;\").head()"
      ],
      "execution_count": 0,
      "outputs": [
        {
          "output_type": "execute_result",
          "data": {
            "text/html": [
              "<div>\n",
              "<style scoped>\n",
              "    .dataframe tbody tr th:only-of-type {\n",
              "        vertical-align: middle;\n",
              "    }\n",
              "\n",
              "    .dataframe tbody tr th {\n",
              "        vertical-align: top;\n",
              "    }\n",
              "\n",
              "    .dataframe thead th {\n",
              "        text-align: right;\n",
              "    }\n",
              "</style>\n",
              "<table border=\"1\" class=\"dataframe\">\n",
              "  <thead>\n",
              "    <tr style=\"text-align: right;\">\n",
              "      <th></th>\n",
              "      <th>sum_beef</th>\n",
              "    </tr>\n",
              "  </thead>\n",
              "  <tbody>\n",
              "    <tr>\n",
              "      <th>0</th>\n",
              "      <td>1361964.2</td>\n",
              "    </tr>\n",
              "  </tbody>\n",
              "</table>\n",
              "</div>"
            ],
            "text/plain": [
              "    sum_beef\n",
              "0  1361964.2"
            ]
          },
          "metadata": {
            "tags": []
          },
          "execution_count": 14
        }
      ]
    },
    {
      "cell_type": "code",
      "metadata": {
        "id": "k-y4XbboC4wh",
        "colab_type": "code",
        "outputId": "6efc712d-9952-4494-b61b-e42217420bed",
        "colab": {
          "base_uri": "https://localhost:8080/",
          "height": 272
        }
      },
      "source": [
        "!pip install pydbgen "
      ],
      "execution_count": 12,
      "outputs": [
        {
          "output_type": "stream",
          "text": [
            "Collecting pydbgen\n",
            "\u001b[?25l  Downloading https://files.pythonhosted.org/packages/0d/4b/3b9e324838d4640a0b5eb9e452a6af6876625a6343c065ef0323921955b7/pydbgen-1.0.5-py3-none-any.whl (81kB)\n",
            "\u001b[K     |████████████████████████████████| 81kB 3.0MB/s \n",
            "\u001b[?25hCollecting Faker (from pydbgen)\n",
            "\u001b[?25l  Downloading https://files.pythonhosted.org/packages/bf/5a/44c04abc182990d716eb7703502aa851433ea66569bd72765ef1abdaea9c/Faker-2.0.2-py2.py3-none-any.whl (879kB)\n",
            "\u001b[K     |████████████████████████████████| 880kB 8.0MB/s \n",
            "\u001b[?25hRequirement already satisfied: Pandas in /usr/local/lib/python3.6/dist-packages (from pydbgen) (0.24.2)\n",
            "Requirement already satisfied: six in /usr/local/lib/python3.6/dist-packages (from pydbgen) (1.12.0)\n",
            "Requirement already satisfied: python-dateutil>=2.4 in /usr/local/lib/python3.6/dist-packages (from Faker->pydbgen) (2.5.3)\n",
            "Requirement already satisfied: text-unidecode==1.3 in /usr/local/lib/python3.6/dist-packages (from Faker->pydbgen) (1.3)\n",
            "Requirement already satisfied: numpy>=1.12.0 in /usr/local/lib/python3.6/dist-packages (from Pandas->pydbgen) (1.16.5)\n",
            "Requirement already satisfied: pytz>=2011k in /usr/local/lib/python3.6/dist-packages (from Pandas->pydbgen) (2018.9)\n",
            "Installing collected packages: Faker, pydbgen\n",
            "Successfully installed Faker-2.0.2 pydbgen-1.0.5\n"
          ],
          "name": "stdout"
        }
      ]
    },
    {
      "cell_type": "code",
      "metadata": {
        "id": "3EMI2YWfC_Wd",
        "colab_type": "code",
        "colab": {}
      },
      "source": [
        "import pydbgen\n",
        "from pydbgen import pydbgen\n",
        "myDB=pydbgen.pydb()"
      ],
      "execution_count": 0,
      "outputs": []
    },
    {
      "cell_type": "code",
      "metadata": {
        "id": "I9YePTMTD7dM",
        "colab_type": "code",
        "colab": {
          "base_uri": "https://localhost:8080/",
          "height": 195
        },
        "outputId": "c5895f07-0203-4368-b495-5568dc2e40d7"
      },
      "source": [
        "df_name = myDB.gen_dataframe(20,['name','city','phone'], seed = 8)\n",
        "df_name['id'] = range(20)\n",
        "df_name.head()"
      ],
      "execution_count": 19,
      "outputs": [
        {
          "output_type": "execute_result",
          "data": {
            "text/html": [
              "<div>\n",
              "<style scoped>\n",
              "    .dataframe tbody tr th:only-of-type {\n",
              "        vertical-align: middle;\n",
              "    }\n",
              "\n",
              "    .dataframe tbody tr th {\n",
              "        vertical-align: top;\n",
              "    }\n",
              "\n",
              "    .dataframe thead th {\n",
              "        text-align: right;\n",
              "    }\n",
              "</style>\n",
              "<table border=\"1\" class=\"dataframe\">\n",
              "  <thead>\n",
              "    <tr style=\"text-align: right;\">\n",
              "      <th></th>\n",
              "      <th>name</th>\n",
              "      <th>city</th>\n",
              "      <th>phone-number</th>\n",
              "      <th>id</th>\n",
              "    </tr>\n",
              "  </thead>\n",
              "  <tbody>\n",
              "    <tr>\n",
              "      <th>0</th>\n",
              "      <td>Caitlin Page</td>\n",
              "      <td>Clark Mills</td>\n",
              "      <td>245-346-1101</td>\n",
              "      <td>0</td>\n",
              "    </tr>\n",
              "    <tr>\n",
              "      <th>1</th>\n",
              "      <td>Tyler Hudson</td>\n",
              "      <td>Pottsboro</td>\n",
              "      <td>950-050-2201</td>\n",
              "      <td>1</td>\n",
              "    </tr>\n",
              "    <tr>\n",
              "      <th>2</th>\n",
              "      <td>Caitlin Mora</td>\n",
              "      <td>Carter Lake</td>\n",
              "      <td>497-036-4065</td>\n",
              "      <td>2</td>\n",
              "    </tr>\n",
              "    <tr>\n",
              "      <th>3</th>\n",
              "      <td>Tracey Davis</td>\n",
              "      <td>Mount Tabor</td>\n",
              "      <td>636-813-0448</td>\n",
              "      <td>3</td>\n",
              "    </tr>\n",
              "    <tr>\n",
              "      <th>4</th>\n",
              "      <td>Howard Vang</td>\n",
              "      <td>Vanceburg</td>\n",
              "      <td>165-144-8019</td>\n",
              "      <td>4</td>\n",
              "    </tr>\n",
              "  </tbody>\n",
              "</table>\n",
              "</div>"
            ],
            "text/plain": [
              "           name         city  phone-number  id\n",
              "0  Caitlin Page  Clark Mills  245-346-1101   0\n",
              "1  Tyler Hudson    Pottsboro  950-050-2201   1\n",
              "2  Caitlin Mora  Carter Lake  497-036-4065   2\n",
              "3  Tracey Davis  Mount Tabor  636-813-0448   3\n",
              "4   Howard Vang    Vanceburg  165-144-8019   4"
            ]
          },
          "metadata": {
            "tags": []
          },
          "execution_count": 19
        }
      ]
    },
    {
      "cell_type": "code",
      "metadata": {
        "id": "nfdNqoJ14Kss",
        "colab_type": "code",
        "colab": {
          "base_uri": "https://localhost:8080/",
          "height": 77
        },
        "outputId": "abc08acc-4f9a-40c6-a346-8dbafed09256"
      },
      "source": [
        "pysqldf(\"SELECT * FROM df_name LIMIT 1\").head()"
      ],
      "execution_count": 21,
      "outputs": [
        {
          "output_type": "execute_result",
          "data": {
            "text/html": [
              "<div>\n",
              "<style scoped>\n",
              "    .dataframe tbody tr th:only-of-type {\n",
              "        vertical-align: middle;\n",
              "    }\n",
              "\n",
              "    .dataframe tbody tr th {\n",
              "        vertical-align: top;\n",
              "    }\n",
              "\n",
              "    .dataframe thead th {\n",
              "        text-align: right;\n",
              "    }\n",
              "</style>\n",
              "<table border=\"1\" class=\"dataframe\">\n",
              "  <thead>\n",
              "    <tr style=\"text-align: right;\">\n",
              "      <th></th>\n",
              "      <th>name</th>\n",
              "      <th>city</th>\n",
              "      <th>phone-number</th>\n",
              "      <th>id</th>\n",
              "    </tr>\n",
              "  </thead>\n",
              "  <tbody>\n",
              "    <tr>\n",
              "      <th>0</th>\n",
              "      <td>Caitlin Page</td>\n",
              "      <td>Clark Mills</td>\n",
              "      <td>245-346-1101</td>\n",
              "      <td>0</td>\n",
              "    </tr>\n",
              "  </tbody>\n",
              "</table>\n",
              "</div>"
            ],
            "text/plain": [
              "           name         city  phone-number  id\n",
              "0  Caitlin Page  Clark Mills  245-346-1101   0"
            ]
          },
          "metadata": {
            "tags": []
          },
          "execution_count": 21
        }
      ]
    },
    {
      "cell_type": "code",
      "metadata": {
        "id": "ja2Bwvx2DRlI",
        "colab_type": "code",
        "outputId": "4fe67cd2-a7aa-4dc1-be49-3c068e7f851b",
        "colab": {
          "base_uri": "https://localhost:8080/",
          "height": 195
        }
      },
      "source": [
        "df_company = myDB.gen_dataframe(20,['company','country','city'])\n",
        "df_company['id'] = range(20)\n",
        "df_company.head()"
      ],
      "execution_count": 22,
      "outputs": [
        {
          "output_type": "execute_result",
          "data": {
            "text/html": [
              "<div>\n",
              "<style scoped>\n",
              "    .dataframe tbody tr th:only-of-type {\n",
              "        vertical-align: middle;\n",
              "    }\n",
              "\n",
              "    .dataframe tbody tr th {\n",
              "        vertical-align: top;\n",
              "    }\n",
              "\n",
              "    .dataframe thead th {\n",
              "        text-align: right;\n",
              "    }\n",
              "</style>\n",
              "<table border=\"1\" class=\"dataframe\">\n",
              "  <thead>\n",
              "    <tr style=\"text-align: right;\">\n",
              "      <th></th>\n",
              "      <th>company</th>\n",
              "      <th>country</th>\n",
              "      <th>city</th>\n",
              "      <th>id</th>\n",
              "    </tr>\n",
              "  </thead>\n",
              "  <tbody>\n",
              "    <tr>\n",
              "      <th>0</th>\n",
              "      <td>Wolfe Group</td>\n",
              "      <td>Jamaica</td>\n",
              "      <td>Old Fort</td>\n",
              "      <td>0</td>\n",
              "    </tr>\n",
              "    <tr>\n",
              "      <th>1</th>\n",
              "      <td>Rogers-Whitney</td>\n",
              "      <td>Chile</td>\n",
              "      <td>Warm Beach</td>\n",
              "      <td>1</td>\n",
              "    </tr>\n",
              "    <tr>\n",
              "      <th>2</th>\n",
              "      <td>Parrish Group</td>\n",
              "      <td>French Southern Territories</td>\n",
              "      <td>Hahntown</td>\n",
              "      <td>2</td>\n",
              "    </tr>\n",
              "    <tr>\n",
              "      <th>3</th>\n",
              "      <td>Adams Group</td>\n",
              "      <td>Mexico</td>\n",
              "      <td>Lulu</td>\n",
              "      <td>3</td>\n",
              "    </tr>\n",
              "    <tr>\n",
              "      <th>4</th>\n",
              "      <td>Carter-Johnson</td>\n",
              "      <td>Jersey</td>\n",
              "      <td>Spragueville</td>\n",
              "      <td>4</td>\n",
              "    </tr>\n",
              "  </tbody>\n",
              "</table>\n",
              "</div>"
            ],
            "text/plain": [
              "          company                      country          city  id\n",
              "0     Wolfe Group                      Jamaica      Old Fort   0\n",
              "1  Rogers-Whitney                        Chile    Warm Beach   1\n",
              "2   Parrish Group  French Southern Territories      Hahntown   2\n",
              "3     Adams Group                       Mexico          Lulu   3\n",
              "4  Carter-Johnson                       Jersey  Spragueville   4"
            ]
          },
          "metadata": {
            "tags": []
          },
          "execution_count": 22
        }
      ]
    },
    {
      "cell_type": "code",
      "metadata": {
        "id": "C1uxlMldC_Hx",
        "colab_type": "code",
        "colab": {}
      },
      "source": [
        ""
      ],
      "execution_count": 0,
      "outputs": []
    },
    {
      "cell_type": "code",
      "metadata": {
        "id": "QOvZ7nAgC36s",
        "colab_type": "code",
        "colab": {}
      },
      "source": [
        "testdf=myDB.gen_dataframe(20,['name','city','phone','date'])\n"
      ],
      "execution_count": 0,
      "outputs": []
    },
    {
      "cell_type": "markdown",
      "metadata": {
        "id": "7cE4PXRzTVKQ",
        "colab_type": "text"
      },
      "source": [
        "Multiple table; synthetic data for practice"
      ]
    },
    {
      "cell_type": "code",
      "metadata": {
        "id": "8gTXYP4VCPCG",
        "colab_type": "code",
        "colab": {}
      },
      "source": [
        "q = \"\"\"\n",
        "SELECT * FROM df_name\n",
        "INNER JOIN df_company\n",
        "ON df_name.id = df_company.id\n",
        "\"\"\""
      ],
      "execution_count": 0,
      "outputs": []
    },
    {
      "cell_type": "markdown",
      "metadata": {
        "id": "iTTP-pyIXei7",
        "colab_type": "text"
      },
      "source": [
        "Use the result as one table, nested"
      ]
    },
    {
      "cell_type": "code",
      "metadata": {
        "id": "LQGzLxq3DMh3",
        "colab_type": "code",
        "colab": {}
      },
      "source": [
        "q = \"\"\"\n",
        "SELECT name FROM \n",
        "(SELECT * FROM df0 \n",
        "INNER JOIN df1 \n",
        "ON df0.id=df1.id) a\n",
        "\"\"\""
      ],
      "execution_count": 0,
      "outputs": []
    },
    {
      "cell_type": "code",
      "metadata": {
        "id": "oEOUmlJhDooH",
        "colab_type": "code",
        "colab": {}
      },
      "source": [
        "q = \"\"\"\n",
        "SELECT a.name FROM \n",
        "(SELECT * FROM df0 \n",
        "INNER JOIN df1 \n",
        "ON df0.id=df1.id) a\n",
        "\"\"\""
      ],
      "execution_count": 0,
      "outputs": []
    },
    {
      "cell_type": "code",
      "metadata": {
        "id": "Ivyz-yirCU2S",
        "colab_type": "code",
        "outputId": "8fbf7943-e300-46bd-d04a-dc62479cdc39",
        "colab": {
          "base_uri": "https://localhost:8080/",
          "height": 195
        }
      },
      "source": [
        "pysqldf(q).head()"
      ],
      "execution_count": 30,
      "outputs": [
        {
          "output_type": "execute_result",
          "data": {
            "text/html": [
              "<div>\n",
              "<style scoped>\n",
              "    .dataframe tbody tr th:only-of-type {\n",
              "        vertical-align: middle;\n",
              "    }\n",
              "\n",
              "    .dataframe tbody tr th {\n",
              "        vertical-align: top;\n",
              "    }\n",
              "\n",
              "    .dataframe thead th {\n",
              "        text-align: right;\n",
              "    }\n",
              "</style>\n",
              "<table border=\"1\" class=\"dataframe\">\n",
              "  <thead>\n",
              "    <tr style=\"text-align: right;\">\n",
              "      <th></th>\n",
              "      <th>name</th>\n",
              "      <th>city</th>\n",
              "      <th>phone-number</th>\n",
              "      <th>id</th>\n",
              "      <th>company</th>\n",
              "      <th>country</th>\n",
              "      <th>city</th>\n",
              "      <th>id</th>\n",
              "    </tr>\n",
              "  </thead>\n",
              "  <tbody>\n",
              "    <tr>\n",
              "      <th>0</th>\n",
              "      <td>Caitlin Page</td>\n",
              "      <td>Clark Mills</td>\n",
              "      <td>245-346-1101</td>\n",
              "      <td>0</td>\n",
              "      <td>Wolfe Group</td>\n",
              "      <td>Jamaica</td>\n",
              "      <td>Old Fort</td>\n",
              "      <td>0</td>\n",
              "    </tr>\n",
              "    <tr>\n",
              "      <th>1</th>\n",
              "      <td>Tyler Hudson</td>\n",
              "      <td>Pottsboro</td>\n",
              "      <td>950-050-2201</td>\n",
              "      <td>1</td>\n",
              "      <td>Rogers-Whitney</td>\n",
              "      <td>Chile</td>\n",
              "      <td>Warm Beach</td>\n",
              "      <td>1</td>\n",
              "    </tr>\n",
              "    <tr>\n",
              "      <th>2</th>\n",
              "      <td>Caitlin Mora</td>\n",
              "      <td>Carter Lake</td>\n",
              "      <td>497-036-4065</td>\n",
              "      <td>2</td>\n",
              "      <td>Parrish Group</td>\n",
              "      <td>French Southern Territories</td>\n",
              "      <td>Hahntown</td>\n",
              "      <td>2</td>\n",
              "    </tr>\n",
              "    <tr>\n",
              "      <th>3</th>\n",
              "      <td>Tracey Davis</td>\n",
              "      <td>Mount Tabor</td>\n",
              "      <td>636-813-0448</td>\n",
              "      <td>3</td>\n",
              "      <td>Adams Group</td>\n",
              "      <td>Mexico</td>\n",
              "      <td>Lulu</td>\n",
              "      <td>3</td>\n",
              "    </tr>\n",
              "    <tr>\n",
              "      <th>4</th>\n",
              "      <td>Howard Vang</td>\n",
              "      <td>Vanceburg</td>\n",
              "      <td>165-144-8019</td>\n",
              "      <td>4</td>\n",
              "      <td>Carter-Johnson</td>\n",
              "      <td>Jersey</td>\n",
              "      <td>Spragueville</td>\n",
              "      <td>4</td>\n",
              "    </tr>\n",
              "  </tbody>\n",
              "</table>\n",
              "</div>"
            ],
            "text/plain": [
              "           name         city  ...          city  id\n",
              "0  Caitlin Page  Clark Mills  ...      Old Fort   0\n",
              "1  Tyler Hudson    Pottsboro  ...    Warm Beach   1\n",
              "2  Caitlin Mora  Carter Lake  ...      Hahntown   2\n",
              "3  Tracey Davis  Mount Tabor  ...          Lulu   3\n",
              "4   Howard Vang    Vanceburg  ...  Spragueville   4\n",
              "\n",
              "[5 rows x 8 columns]"
            ]
          },
          "metadata": {
            "tags": []
          },
          "execution_count": 30
        }
      ]
    },
    {
      "cell_type": "markdown",
      "metadata": {
        "id": "d_dwU39CD84Q",
        "colab_type": "text"
      },
      "source": [
        "Inner join 2 nested"
      ]
    },
    {
      "cell_type": "code",
      "metadata": {
        "id": "pOlpYwDjBuLD",
        "colab_type": "code",
        "outputId": "402425e4-6cde-4569-cd57-db42f08f0513",
        "colab": {
          "base_uri": "https://localhost:8080/",
          "height": 195
        }
      },
      "source": [
        "pysqldf(\"SELECT * FROM meat ORDER BY beef\").head()"
      ],
      "execution_count": 0,
      "outputs": [
        {
          "output_type": "execute_result",
          "data": {
            "text/html": [
              "<div>\n",
              "<style scoped>\n",
              "    .dataframe tbody tr th:only-of-type {\n",
              "        vertical-align: middle;\n",
              "    }\n",
              "\n",
              "    .dataframe tbody tr th {\n",
              "        vertical-align: top;\n",
              "    }\n",
              "\n",
              "    .dataframe thead th {\n",
              "        text-align: right;\n",
              "    }\n",
              "</style>\n",
              "<table border=\"1\" class=\"dataframe\">\n",
              "  <thead>\n",
              "    <tr style=\"text-align: right;\">\n",
              "      <th></th>\n",
              "      <th>date</th>\n",
              "      <th>beef</th>\n",
              "      <th>veal</th>\n",
              "      <th>pork</th>\n",
              "      <th>lamb_and_mutton</th>\n",
              "      <th>broilers</th>\n",
              "      <th>other_chicken</th>\n",
              "      <th>turkey</th>\n",
              "    </tr>\n",
              "  </thead>\n",
              "  <tbody>\n",
              "    <tr>\n",
              "      <th>0</th>\n",
              "      <td>1946-09-01 00:00:00.000000</td>\n",
              "      <td>366.0</td>\n",
              "      <td>98.0</td>\n",
              "      <td>124.0</td>\n",
              "      <td>63.0</td>\n",
              "      <td>NaN</td>\n",
              "      <td>NaN</td>\n",
              "      <td>NaN</td>\n",
              "    </tr>\n",
              "    <tr>\n",
              "      <th>1</th>\n",
              "      <td>1946-06-01 00:00:00.000000</td>\n",
              "      <td>461.0</td>\n",
              "      <td>78.0</td>\n",
              "      <td>505.0</td>\n",
              "      <td>75.0</td>\n",
              "      <td>NaN</td>\n",
              "      <td>NaN</td>\n",
              "      <td>NaN</td>\n",
              "    </tr>\n",
              "    <tr>\n",
              "      <th>2</th>\n",
              "      <td>1951-06-01 00:00:00.000000</td>\n",
              "      <td>591.0</td>\n",
              "      <td>78.0</td>\n",
              "      <td>798.0</td>\n",
              "      <td>39.0</td>\n",
              "      <td>NaN</td>\n",
              "      <td>NaN</td>\n",
              "      <td>NaN</td>\n",
              "    </tr>\n",
              "    <tr>\n",
              "      <th>3</th>\n",
              "      <td>1946-05-01 00:00:00.000000</td>\n",
              "      <td>605.0</td>\n",
              "      <td>83.0</td>\n",
              "      <td>810.0</td>\n",
              "      <td>65.0</td>\n",
              "      <td>NaN</td>\n",
              "      <td>NaN</td>\n",
              "      <td>NaN</td>\n",
              "    </tr>\n",
              "    <tr>\n",
              "      <th>4</th>\n",
              "      <td>1944-04-01 00:00:00.000000</td>\n",
              "      <td>650.0</td>\n",
              "      <td>89.0</td>\n",
              "      <td>978.0</td>\n",
              "      <td>66.0</td>\n",
              "      <td>NaN</td>\n",
              "      <td>NaN</td>\n",
              "      <td>NaN</td>\n",
              "    </tr>\n",
              "  </tbody>\n",
              "</table>\n",
              "</div>"
            ],
            "text/plain": [
              "                         date   beef  veal  ...  broilers  other_chicken  turkey\n",
              "0  1946-09-01 00:00:00.000000  366.0  98.0  ...       NaN            NaN     NaN\n",
              "1  1946-06-01 00:00:00.000000  461.0  78.0  ...       NaN            NaN     NaN\n",
              "2  1951-06-01 00:00:00.000000  591.0  78.0  ...       NaN            NaN     NaN\n",
              "3  1946-05-01 00:00:00.000000  605.0  83.0  ...       NaN            NaN     NaN\n",
              "4  1944-04-01 00:00:00.000000  650.0  89.0  ...       NaN            NaN     NaN\n",
              "\n",
              "[5 rows x 8 columns]"
            ]
          },
          "metadata": {
            "tags": []
          },
          "execution_count": 15
        }
      ]
    },
    {
      "cell_type": "code",
      "metadata": {
        "id": "qc6UJud0Asn-",
        "colab_type": "code",
        "colab": {}
      },
      "source": [
        "q = \"\"\"SELECT\n",
        "        m.date, m.beef, b.births\n",
        "     FROM\n",
        "        meats m\n",
        "     INNER JOIN\n",
        "        births b\n",
        "           ON m.date = b.date;\"\"\""
      ],
      "execution_count": 0,
      "outputs": []
    },
    {
      "cell_type": "code",
      "metadata": {
        "id": "ty1USmgRwPB4",
        "colab_type": "code",
        "colab": {}
      },
      "source": [
        "joined = pysqldf(q)"
      ],
      "execution_count": 0,
      "outputs": []
    },
    {
      "cell_type": "code",
      "metadata": {
        "id": "mvcHv79Hwf-y",
        "colab_type": "code",
        "colab": {}
      },
      "source": [
        "q = \"\"\"select\n",
        "           strftime('%Y', date) as year\n",
        "           , SUM(beef) as beef_total\n",
        "           FROM\n",
        "              meat\n",
        "           GROUP BY\n",
        "              year;\"\"\""
      ],
      "execution_count": 0,
      "outputs": []
    },
    {
      "cell_type": "code",
      "metadata": {
        "id": "PXSzOyC7wQ3W",
        "colab_type": "code",
        "outputId": "ef4c5881-e0ea-4c75-c487-a86e720d54ff",
        "colab": {
          "base_uri": "https://localhost:8080/",
          "height": 202
        }
      },
      "source": [
        "pysqldf(q).head()"
      ],
      "execution_count": 0,
      "outputs": [
        {
          "output_type": "execute_result",
          "data": {
            "text/html": [
              "<div>\n",
              "<style scoped>\n",
              "    .dataframe tbody tr th:only-of-type {\n",
              "        vertical-align: middle;\n",
              "    }\n",
              "\n",
              "    .dataframe tbody tr th {\n",
              "        vertical-align: top;\n",
              "    }\n",
              "\n",
              "    .dataframe thead th {\n",
              "        text-align: right;\n",
              "    }\n",
              "</style>\n",
              "<table border=\"1\" class=\"dataframe\">\n",
              "  <thead>\n",
              "    <tr style=\"text-align: right;\">\n",
              "      <th></th>\n",
              "      <th>year</th>\n",
              "      <th>beef_total</th>\n",
              "    </tr>\n",
              "  </thead>\n",
              "  <tbody>\n",
              "    <tr>\n",
              "      <th>0</th>\n",
              "      <td>1944</td>\n",
              "      <td>8801.0</td>\n",
              "    </tr>\n",
              "    <tr>\n",
              "      <th>1</th>\n",
              "      <td>1945</td>\n",
              "      <td>9936.0</td>\n",
              "    </tr>\n",
              "    <tr>\n",
              "      <th>2</th>\n",
              "      <td>1946</td>\n",
              "      <td>9010.0</td>\n",
              "    </tr>\n",
              "    <tr>\n",
              "      <th>3</th>\n",
              "      <td>1947</td>\n",
              "      <td>10096.0</td>\n",
              "    </tr>\n",
              "    <tr>\n",
              "      <th>4</th>\n",
              "      <td>1948</td>\n",
              "      <td>8766.0</td>\n",
              "    </tr>\n",
              "  </tbody>\n",
              "</table>\n",
              "</div>"
            ],
            "text/plain": [
              "   year  beef_total\n",
              "0  1944      8801.0\n",
              "1  1945      9936.0\n",
              "2  1946      9010.0\n",
              "3  1947     10096.0\n",
              "4  1948      8766.0"
            ]
          },
          "metadata": {
            "tags": []
          },
          "execution_count": 19
        }
      ]
    },
    {
      "cell_type": "code",
      "metadata": {
        "id": "f1VpvlmgXeCC",
        "colab_type": "code",
        "colab": {}
      },
      "source": [
        ""
      ],
      "execution_count": 0,
      "outputs": []
    }
  ]
}
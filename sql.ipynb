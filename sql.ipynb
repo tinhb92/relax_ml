{
  "nbformat": 4,
  "nbformat_minor": 0,
  "metadata": {
    "colab": {
      "name": "sql",
      "provenance": [],
      "collapsed_sections": [],
      "include_colab_link": true
    },
    "kernelspec": {
      "name": "python3",
      "display_name": "Python 3"
    }
  },
  "cells": [
    {
      "cell_type": "markdown",
      "metadata": {
        "id": "view-in-github",
        "colab_type": "text"
      },
      "source": [
        "<a href=\"https://colab.research.google.com/github/tinhb92/relax_ml/blob/master/sql.ipynb\" target=\"_parent\"><img src=\"https://colab.research.google.com/assets/colab-badge.svg\" alt=\"Open In Colab\"/></a>"
      ]
    },
    {
      "cell_type": "code",
      "metadata": {
        "id": "v_TjainY-A-n",
        "colab_type": "code",
        "outputId": "fb9bc4b9-827e-47e3-f5e5-4dd35104702f",
        "colab": {
          "base_uri": "https://localhost:8080/",
          "height": 289
        }
      },
      "source": [
        "! pip install -U pandasql"
      ],
      "execution_count": 1,
      "outputs": [
        {
          "output_type": "stream",
          "text": [
            "Collecting pandasql\n",
            "  Downloading https://files.pythonhosted.org/packages/6b/c4/ee4096ffa2eeeca0c749b26f0371bd26aa5c8b611c43de99a4f86d3de0a7/pandasql-0.7.3.tar.gz\n",
            "Requirement already satisfied, skipping upgrade: numpy in /usr/local/lib/python3.6/dist-packages (from pandasql) (1.16.5)\n",
            "Requirement already satisfied, skipping upgrade: pandas in /usr/local/lib/python3.6/dist-packages (from pandasql) (0.24.2)\n",
            "Requirement already satisfied, skipping upgrade: sqlalchemy in /usr/local/lib/python3.6/dist-packages (from pandasql) (1.3.8)\n",
            "Requirement already satisfied, skipping upgrade: python-dateutil>=2.5.0 in /usr/local/lib/python3.6/dist-packages (from pandas->pandasql) (2.5.3)\n",
            "Requirement already satisfied, skipping upgrade: pytz>=2011k in /usr/local/lib/python3.6/dist-packages (from pandas->pandasql) (2018.9)\n",
            "Requirement already satisfied, skipping upgrade: six>=1.5 in /usr/local/lib/python3.6/dist-packages (from python-dateutil>=2.5.0->pandas->pandasql) (1.12.0)\n",
            "Building wheels for collected packages: pandasql\n",
            "  Building wheel for pandasql (setup.py) ... \u001b[?25l\u001b[?25hdone\n",
            "  Created wheel for pandasql: filename=pandasql-0.7.3-cp36-none-any.whl size=26820 sha256=127257a7aa80046c811229b5ede0a60081a186426d1299c3073b4b038a26888f\n",
            "  Stored in directory: /root/.cache/pip/wheels/53/6c/18/b87a2e5fa8a82e9c026311de56210b8d1c01846e18a9607fc9\n",
            "Successfully built pandasql\n",
            "Installing collected packages: pandasql\n",
            "Successfully installed pandasql-0.7.3\n"
          ],
          "name": "stdout"
        }
      ]
    },
    {
      "cell_type": "code",
      "metadata": {
        "id": "zjf8qf2g-UVn",
        "colab_type": "code",
        "colab": {}
      },
      "source": [
        "from pandasql import sqldf, load_meat, load_births"
      ],
      "execution_count": 0,
      "outputs": []
    },
    {
      "cell_type": "code",
      "metadata": {
        "id": "LcT8SX7S-Wng",
        "colab_type": "code",
        "colab": {}
      },
      "source": [
        "pysqldf = lambda q: sqldf(q, globals())"
      ],
      "execution_count": 0,
      "outputs": []
    },
    {
      "cell_type": "code",
      "metadata": {
        "id": "XB9xKF1o-Xaa",
        "colab_type": "code",
        "colab": {}
      },
      "source": [
        "meat = load_meat()"
      ],
      "execution_count": 0,
      "outputs": []
    },
    {
      "cell_type": "code",
      "metadata": {
        "id": "D9TvMqg1-nJK",
        "colab_type": "code",
        "colab": {}
      },
      "source": [
        ""
      ],
      "execution_count": 0,
      "outputs": []
    },
    {
      "cell_type": "code",
      "metadata": {
        "id": "Ahk8sn3S-bbG",
        "colab_type": "code",
        "outputId": "5c29c502-9ee6-4e22-9e4e-252e28830e9d",
        "colab": {
          "base_uri": "https://localhost:8080/",
          "height": 195
        }
      },
      "source": [
        "meat.head()"
      ],
      "execution_count": 5,
      "outputs": [
        {
          "output_type": "execute_result",
          "data": {
            "text/html": [
              "<div>\n",
              "<style scoped>\n",
              "    .dataframe tbody tr th:only-of-type {\n",
              "        vertical-align: middle;\n",
              "    }\n",
              "\n",
              "    .dataframe tbody tr th {\n",
              "        vertical-align: top;\n",
              "    }\n",
              "\n",
              "    .dataframe thead th {\n",
              "        text-align: right;\n",
              "    }\n",
              "</style>\n",
              "<table border=\"1\" class=\"dataframe\">\n",
              "  <thead>\n",
              "    <tr style=\"text-align: right;\">\n",
              "      <th></th>\n",
              "      <th>date</th>\n",
              "      <th>beef</th>\n",
              "      <th>veal</th>\n",
              "      <th>pork</th>\n",
              "      <th>lamb_and_mutton</th>\n",
              "      <th>broilers</th>\n",
              "      <th>other_chicken</th>\n",
              "      <th>turkey</th>\n",
              "    </tr>\n",
              "  </thead>\n",
              "  <tbody>\n",
              "    <tr>\n",
              "      <th>0</th>\n",
              "      <td>1944-01-01</td>\n",
              "      <td>751.0</td>\n",
              "      <td>85.0</td>\n",
              "      <td>1280.0</td>\n",
              "      <td>89.0</td>\n",
              "      <td>NaN</td>\n",
              "      <td>NaN</td>\n",
              "      <td>NaN</td>\n",
              "    </tr>\n",
              "    <tr>\n",
              "      <th>1</th>\n",
              "      <td>1944-02-01</td>\n",
              "      <td>713.0</td>\n",
              "      <td>77.0</td>\n",
              "      <td>1169.0</td>\n",
              "      <td>72.0</td>\n",
              "      <td>NaN</td>\n",
              "      <td>NaN</td>\n",
              "      <td>NaN</td>\n",
              "    </tr>\n",
              "    <tr>\n",
              "      <th>2</th>\n",
              "      <td>1944-03-01</td>\n",
              "      <td>741.0</td>\n",
              "      <td>90.0</td>\n",
              "      <td>1128.0</td>\n",
              "      <td>75.0</td>\n",
              "      <td>NaN</td>\n",
              "      <td>NaN</td>\n",
              "      <td>NaN</td>\n",
              "    </tr>\n",
              "    <tr>\n",
              "      <th>3</th>\n",
              "      <td>1944-04-01</td>\n",
              "      <td>650.0</td>\n",
              "      <td>89.0</td>\n",
              "      <td>978.0</td>\n",
              "      <td>66.0</td>\n",
              "      <td>NaN</td>\n",
              "      <td>NaN</td>\n",
              "      <td>NaN</td>\n",
              "    </tr>\n",
              "    <tr>\n",
              "      <th>4</th>\n",
              "      <td>1944-05-01</td>\n",
              "      <td>681.0</td>\n",
              "      <td>106.0</td>\n",
              "      <td>1029.0</td>\n",
              "      <td>78.0</td>\n",
              "      <td>NaN</td>\n",
              "      <td>NaN</td>\n",
              "      <td>NaN</td>\n",
              "    </tr>\n",
              "  </tbody>\n",
              "</table>\n",
              "</div>"
            ],
            "text/plain": [
              "        date   beef   veal  ...  broilers  other_chicken  turkey\n",
              "0 1944-01-01  751.0   85.0  ...       NaN            NaN     NaN\n",
              "1 1944-02-01  713.0   77.0  ...       NaN            NaN     NaN\n",
              "2 1944-03-01  741.0   90.0  ...       NaN            NaN     NaN\n",
              "3 1944-04-01  650.0   89.0  ...       NaN            NaN     NaN\n",
              "4 1944-05-01  681.0  106.0  ...       NaN            NaN     NaN\n",
              "\n",
              "[5 rows x 8 columns]"
            ]
          },
          "metadata": {
            "tags": []
          },
          "execution_count": 5
        }
      ]
    },
    {
      "cell_type": "code",
      "metadata": {
        "id": "cXlcNxkMAQ9f",
        "colab_type": "code",
        "colab": {}
      },
      "source": [
        "births = load_births()"
      ],
      "execution_count": 0,
      "outputs": []
    },
    {
      "cell_type": "code",
      "metadata": {
        "id": "vkqpel1_ukpJ",
        "colab_type": "code",
        "outputId": "93f4f4dd-06b4-476f-bcd3-4b3c7c95cdfd",
        "colab": {
          "base_uri": "https://localhost:8080/",
          "height": 195
        }
      },
      "source": [
        "births.head()"
      ],
      "execution_count": 7,
      "outputs": [
        {
          "output_type": "execute_result",
          "data": {
            "text/html": [
              "<div>\n",
              "<style scoped>\n",
              "    .dataframe tbody tr th:only-of-type {\n",
              "        vertical-align: middle;\n",
              "    }\n",
              "\n",
              "    .dataframe tbody tr th {\n",
              "        vertical-align: top;\n",
              "    }\n",
              "\n",
              "    .dataframe thead th {\n",
              "        text-align: right;\n",
              "    }\n",
              "</style>\n",
              "<table border=\"1\" class=\"dataframe\">\n",
              "  <thead>\n",
              "    <tr style=\"text-align: right;\">\n",
              "      <th></th>\n",
              "      <th>date</th>\n",
              "      <th>births</th>\n",
              "    </tr>\n",
              "  </thead>\n",
              "  <tbody>\n",
              "    <tr>\n",
              "      <th>0</th>\n",
              "      <td>1975-01-01</td>\n",
              "      <td>265775</td>\n",
              "    </tr>\n",
              "    <tr>\n",
              "      <th>1</th>\n",
              "      <td>1975-02-01</td>\n",
              "      <td>241045</td>\n",
              "    </tr>\n",
              "    <tr>\n",
              "      <th>2</th>\n",
              "      <td>1975-03-01</td>\n",
              "      <td>268849</td>\n",
              "    </tr>\n",
              "    <tr>\n",
              "      <th>3</th>\n",
              "      <td>1975-04-01</td>\n",
              "      <td>247455</td>\n",
              "    </tr>\n",
              "    <tr>\n",
              "      <th>4</th>\n",
              "      <td>1975-05-01</td>\n",
              "      <td>254545</td>\n",
              "    </tr>\n",
              "  </tbody>\n",
              "</table>\n",
              "</div>"
            ],
            "text/plain": [
              "        date  births\n",
              "0 1975-01-01  265775\n",
              "1 1975-02-01  241045\n",
              "2 1975-03-01  268849\n",
              "3 1975-04-01  247455\n",
              "4 1975-05-01  254545"
            ]
          },
          "metadata": {
            "tags": []
          },
          "execution_count": 7
        }
      ]
    },
    {
      "cell_type": "code",
      "metadata": {
        "id": "Y6KABxdOCit2",
        "colab_type": "code",
        "outputId": "60d5e647-ad50-47ed-e028-311f6b673b59",
        "colab": {
          "base_uri": "https://localhost:8080/",
          "height": 34
        }
      },
      "source": [
        "meat.shape"
      ],
      "execution_count": 8,
      "outputs": [
        {
          "output_type": "execute_result",
          "data": {
            "text/plain": [
              "(827, 8)"
            ]
          },
          "metadata": {
            "tags": []
          },
          "execution_count": 8
        }
      ]
    },
    {
      "cell_type": "code",
      "metadata": {
        "id": "g8FBIfZTDeZm",
        "colab_type": "code",
        "colab": {
          "base_uri": "https://localhost:8080/",
          "height": 195
        },
        "outputId": "00eb89de-2c0c-4ea5-92b7-2c77e1b7a4c8"
      },
      "source": [
        "meat.query('beef>751').head()"
      ],
      "execution_count": 11,
      "outputs": [
        {
          "output_type": "execute_result",
          "data": {
            "text/html": [
              "<div>\n",
              "<style scoped>\n",
              "    .dataframe tbody tr th:only-of-type {\n",
              "        vertical-align: middle;\n",
              "    }\n",
              "\n",
              "    .dataframe tbody tr th {\n",
              "        vertical-align: top;\n",
              "    }\n",
              "\n",
              "    .dataframe thead th {\n",
              "        text-align: right;\n",
              "    }\n",
              "</style>\n",
              "<table border=\"1\" class=\"dataframe\">\n",
              "  <thead>\n",
              "    <tr style=\"text-align: right;\">\n",
              "      <th></th>\n",
              "      <th>date</th>\n",
              "      <th>beef</th>\n",
              "      <th>veal</th>\n",
              "      <th>pork</th>\n",
              "      <th>lamb_and_mutton</th>\n",
              "      <th>broilers</th>\n",
              "      <th>other_chicken</th>\n",
              "      <th>turkey</th>\n",
              "    </tr>\n",
              "  </thead>\n",
              "  <tbody>\n",
              "    <tr>\n",
              "      <th>7</th>\n",
              "      <td>1944-08-01</td>\n",
              "      <td>787.0</td>\n",
              "      <td>175.0</td>\n",
              "      <td>748.0</td>\n",
              "      <td>87.0</td>\n",
              "      <td>NaN</td>\n",
              "      <td>NaN</td>\n",
              "      <td>NaN</td>\n",
              "    </tr>\n",
              "    <tr>\n",
              "      <th>8</th>\n",
              "      <td>1944-09-01</td>\n",
              "      <td>774.0</td>\n",
              "      <td>182.0</td>\n",
              "      <td>678.0</td>\n",
              "      <td>91.0</td>\n",
              "      <td>NaN</td>\n",
              "      <td>NaN</td>\n",
              "      <td>NaN</td>\n",
              "    </tr>\n",
              "    <tr>\n",
              "      <th>9</th>\n",
              "      <td>1944-10-01</td>\n",
              "      <td>834.0</td>\n",
              "      <td>215.0</td>\n",
              "      <td>777.0</td>\n",
              "      <td>100.0</td>\n",
              "      <td>NaN</td>\n",
              "      <td>NaN</td>\n",
              "      <td>NaN</td>\n",
              "    </tr>\n",
              "    <tr>\n",
              "      <th>10</th>\n",
              "      <td>1944-11-01</td>\n",
              "      <td>786.0</td>\n",
              "      <td>197.0</td>\n",
              "      <td>944.0</td>\n",
              "      <td>91.0</td>\n",
              "      <td>NaN</td>\n",
              "      <td>NaN</td>\n",
              "      <td>NaN</td>\n",
              "    </tr>\n",
              "    <tr>\n",
              "      <th>11</th>\n",
              "      <td>1944-12-01</td>\n",
              "      <td>764.0</td>\n",
              "      <td>146.0</td>\n",
              "      <td>1013.0</td>\n",
              "      <td>91.0</td>\n",
              "      <td>NaN</td>\n",
              "      <td>NaN</td>\n",
              "      <td>NaN</td>\n",
              "    </tr>\n",
              "  </tbody>\n",
              "</table>\n",
              "</div>"
            ],
            "text/plain": [
              "         date   beef   veal  ...  broilers  other_chicken  turkey\n",
              "7  1944-08-01  787.0  175.0  ...       NaN            NaN     NaN\n",
              "8  1944-09-01  774.0  182.0  ...       NaN            NaN     NaN\n",
              "9  1944-10-01  834.0  215.0  ...       NaN            NaN     NaN\n",
              "10 1944-11-01  786.0  197.0  ...       NaN            NaN     NaN\n",
              "11 1944-12-01  764.0  146.0  ...       NaN            NaN     NaN\n",
              "\n",
              "[5 rows x 8 columns]"
            ]
          },
          "metadata": {
            "tags": []
          },
          "execution_count": 11
        }
      ]
    },
    {
      "cell_type": "code",
      "metadata": {
        "id": "QWYdyv-K-AnB",
        "colab_type": "code",
        "outputId": "86f5738b-7bc2-4a70-d736-a7ae69964edb",
        "colab": {
          "base_uri": "https://localhost:8080/",
          "height": 195
        }
      },
      "source": [
        "pysqldf(\"SELECT * FROM meat LIMIT 10\").head()"
      ],
      "execution_count": 10,
      "outputs": [
        {
          "output_type": "execute_result",
          "data": {
            "text/html": [
              "<div>\n",
              "<style scoped>\n",
              "    .dataframe tbody tr th:only-of-type {\n",
              "        vertical-align: middle;\n",
              "    }\n",
              "\n",
              "    .dataframe tbody tr th {\n",
              "        vertical-align: top;\n",
              "    }\n",
              "\n",
              "    .dataframe thead th {\n",
              "        text-align: right;\n",
              "    }\n",
              "</style>\n",
              "<table border=\"1\" class=\"dataframe\">\n",
              "  <thead>\n",
              "    <tr style=\"text-align: right;\">\n",
              "      <th></th>\n",
              "      <th>date</th>\n",
              "      <th>beef</th>\n",
              "      <th>veal</th>\n",
              "      <th>pork</th>\n",
              "      <th>lamb_and_mutton</th>\n",
              "      <th>broilers</th>\n",
              "      <th>other_chicken</th>\n",
              "      <th>turkey</th>\n",
              "    </tr>\n",
              "  </thead>\n",
              "  <tbody>\n",
              "    <tr>\n",
              "      <th>0</th>\n",
              "      <td>1944-01-01 00:00:00.000000</td>\n",
              "      <td>751.0</td>\n",
              "      <td>85.0</td>\n",
              "      <td>1280.0</td>\n",
              "      <td>89.0</td>\n",
              "      <td>None</td>\n",
              "      <td>None</td>\n",
              "      <td>None</td>\n",
              "    </tr>\n",
              "    <tr>\n",
              "      <th>1</th>\n",
              "      <td>1944-02-01 00:00:00.000000</td>\n",
              "      <td>713.0</td>\n",
              "      <td>77.0</td>\n",
              "      <td>1169.0</td>\n",
              "      <td>72.0</td>\n",
              "      <td>None</td>\n",
              "      <td>None</td>\n",
              "      <td>None</td>\n",
              "    </tr>\n",
              "    <tr>\n",
              "      <th>2</th>\n",
              "      <td>1944-03-01 00:00:00.000000</td>\n",
              "      <td>741.0</td>\n",
              "      <td>90.0</td>\n",
              "      <td>1128.0</td>\n",
              "      <td>75.0</td>\n",
              "      <td>None</td>\n",
              "      <td>None</td>\n",
              "      <td>None</td>\n",
              "    </tr>\n",
              "    <tr>\n",
              "      <th>3</th>\n",
              "      <td>1944-04-01 00:00:00.000000</td>\n",
              "      <td>650.0</td>\n",
              "      <td>89.0</td>\n",
              "      <td>978.0</td>\n",
              "      <td>66.0</td>\n",
              "      <td>None</td>\n",
              "      <td>None</td>\n",
              "      <td>None</td>\n",
              "    </tr>\n",
              "    <tr>\n",
              "      <th>4</th>\n",
              "      <td>1944-05-01 00:00:00.000000</td>\n",
              "      <td>681.0</td>\n",
              "      <td>106.0</td>\n",
              "      <td>1029.0</td>\n",
              "      <td>78.0</td>\n",
              "      <td>None</td>\n",
              "      <td>None</td>\n",
              "      <td>None</td>\n",
              "    </tr>\n",
              "  </tbody>\n",
              "</table>\n",
              "</div>"
            ],
            "text/plain": [
              "                         date   beef   veal  ...  broilers  other_chicken turkey\n",
              "0  1944-01-01 00:00:00.000000  751.0   85.0  ...      None           None   None\n",
              "1  1944-02-01 00:00:00.000000  713.0   77.0  ...      None           None   None\n",
              "2  1944-03-01 00:00:00.000000  741.0   90.0  ...      None           None   None\n",
              "3  1944-04-01 00:00:00.000000  650.0   89.0  ...      None           None   None\n",
              "4  1944-05-01 00:00:00.000000  681.0  106.0  ...      None           None   None\n",
              "\n",
              "[5 rows x 8 columns]"
            ]
          },
          "metadata": {
            "tags": []
          },
          "execution_count": 10
        }
      ]
    },
    {
      "cell_type": "code",
      "metadata": {
        "id": "oCfHHNNPCHWu",
        "colab_type": "code",
        "outputId": "a7f2cb28-4b92-4fd0-da8b-62b956878703",
        "colab": {
          "base_uri": "https://localhost:8080/",
          "height": 195
        }
      },
      "source": [
        "pysqldf(\"SELECT beef FROM meat WHERE beef>751\").head()"
      ],
      "execution_count": 12,
      "outputs": [
        {
          "output_type": "execute_result",
          "data": {
            "text/html": [
              "<div>\n",
              "<style scoped>\n",
              "    .dataframe tbody tr th:only-of-type {\n",
              "        vertical-align: middle;\n",
              "    }\n",
              "\n",
              "    .dataframe tbody tr th {\n",
              "        vertical-align: top;\n",
              "    }\n",
              "\n",
              "    .dataframe thead th {\n",
              "        text-align: right;\n",
              "    }\n",
              "</style>\n",
              "<table border=\"1\" class=\"dataframe\">\n",
              "  <thead>\n",
              "    <tr style=\"text-align: right;\">\n",
              "      <th></th>\n",
              "      <th>beef</th>\n",
              "    </tr>\n",
              "  </thead>\n",
              "  <tbody>\n",
              "    <tr>\n",
              "      <th>0</th>\n",
              "      <td>787.0</td>\n",
              "    </tr>\n",
              "    <tr>\n",
              "      <th>1</th>\n",
              "      <td>774.0</td>\n",
              "    </tr>\n",
              "    <tr>\n",
              "      <th>2</th>\n",
              "      <td>834.0</td>\n",
              "    </tr>\n",
              "    <tr>\n",
              "      <th>3</th>\n",
              "      <td>786.0</td>\n",
              "    </tr>\n",
              "    <tr>\n",
              "      <th>4</th>\n",
              "      <td>764.0</td>\n",
              "    </tr>\n",
              "  </tbody>\n",
              "</table>\n",
              "</div>"
            ],
            "text/plain": [
              "    beef\n",
              "0  787.0\n",
              "1  774.0\n",
              "2  834.0\n",
              "3  786.0\n",
              "4  764.0"
            ]
          },
          "metadata": {
            "tags": []
          },
          "execution_count": 12
        }
      ]
    },
    {
      "cell_type": "code",
      "metadata": {
        "id": "LGPNd09GBvQ-",
        "colab_type": "code",
        "outputId": "ef58e005-395c-444d-d9e1-fc307ae37bed",
        "colab": {
          "base_uri": "https://localhost:8080/",
          "height": 77
        }
      },
      "source": [
        "pysqldf(\"SELECT SUM(CASE When beef>751 Then 1 Else 0 End ) as sum_beef FROM meat;\").head()"
      ],
      "execution_count": 13,
      "outputs": [
        {
          "output_type": "execute_result",
          "data": {
            "text/html": [
              "<div>\n",
              "<style scoped>\n",
              "    .dataframe tbody tr th:only-of-type {\n",
              "        vertical-align: middle;\n",
              "    }\n",
              "\n",
              "    .dataframe tbody tr th {\n",
              "        vertical-align: top;\n",
              "    }\n",
              "\n",
              "    .dataframe thead th {\n",
              "        text-align: right;\n",
              "    }\n",
              "</style>\n",
              "<table border=\"1\" class=\"dataframe\">\n",
              "  <thead>\n",
              "    <tr style=\"text-align: right;\">\n",
              "      <th></th>\n",
              "      <th>sum_beef</th>\n",
              "    </tr>\n",
              "  </thead>\n",
              "  <tbody>\n",
              "    <tr>\n",
              "      <th>0</th>\n",
              "      <td>783</td>\n",
              "    </tr>\n",
              "  </tbody>\n",
              "</table>\n",
              "</div>"
            ],
            "text/plain": [
              "   sum_beef\n",
              "0       783"
            ]
          },
          "metadata": {
            "tags": []
          },
          "execution_count": 13
        }
      ]
    },
    {
      "cell_type": "code",
      "metadata": {
        "id": "GkJFu_cCEljj",
        "colab_type": "code",
        "colab": {
          "base_uri": "https://localhost:8080/",
          "height": 77
        },
        "outputId": "e96c93e0-bbcf-4b5f-8e26-7be6eb351676"
      },
      "source": [
        "pysqldf(\"SELECT SUM(CASE When beef>751 Then beef Else 0 End ) as sum_beef FROM meat;\").head()"
      ],
      "execution_count": 14,
      "outputs": [
        {
          "output_type": "execute_result",
          "data": {
            "text/html": [
              "<div>\n",
              "<style scoped>\n",
              "    .dataframe tbody tr th:only-of-type {\n",
              "        vertical-align: middle;\n",
              "    }\n",
              "\n",
              "    .dataframe tbody tr th {\n",
              "        vertical-align: top;\n",
              "    }\n",
              "\n",
              "    .dataframe thead th {\n",
              "        text-align: right;\n",
              "    }\n",
              "</style>\n",
              "<table border=\"1\" class=\"dataframe\">\n",
              "  <thead>\n",
              "    <tr style=\"text-align: right;\">\n",
              "      <th></th>\n",
              "      <th>sum_beef</th>\n",
              "    </tr>\n",
              "  </thead>\n",
              "  <tbody>\n",
              "    <tr>\n",
              "      <th>0</th>\n",
              "      <td>1361964.2</td>\n",
              "    </tr>\n",
              "  </tbody>\n",
              "</table>\n",
              "</div>"
            ],
            "text/plain": [
              "    sum_beef\n",
              "0  1361964.2"
            ]
          },
          "metadata": {
            "tags": []
          },
          "execution_count": 14
        }
      ]
    },
    {
      "cell_type": "code",
      "metadata": {
        "id": "pOlpYwDjBuLD",
        "colab_type": "code",
        "outputId": "402425e4-6cde-4569-cd57-db42f08f0513",
        "colab": {
          "base_uri": "https://localhost:8080/",
          "height": 195
        }
      },
      "source": [
        "pysqldf(\"SELECT * FROM meat ORDER BY beef\").head()"
      ],
      "execution_count": 15,
      "outputs": [
        {
          "output_type": "execute_result",
          "data": {
            "text/html": [
              "<div>\n",
              "<style scoped>\n",
              "    .dataframe tbody tr th:only-of-type {\n",
              "        vertical-align: middle;\n",
              "    }\n",
              "\n",
              "    .dataframe tbody tr th {\n",
              "        vertical-align: top;\n",
              "    }\n",
              "\n",
              "    .dataframe thead th {\n",
              "        text-align: right;\n",
              "    }\n",
              "</style>\n",
              "<table border=\"1\" class=\"dataframe\">\n",
              "  <thead>\n",
              "    <tr style=\"text-align: right;\">\n",
              "      <th></th>\n",
              "      <th>date</th>\n",
              "      <th>beef</th>\n",
              "      <th>veal</th>\n",
              "      <th>pork</th>\n",
              "      <th>lamb_and_mutton</th>\n",
              "      <th>broilers</th>\n",
              "      <th>other_chicken</th>\n",
              "      <th>turkey</th>\n",
              "    </tr>\n",
              "  </thead>\n",
              "  <tbody>\n",
              "    <tr>\n",
              "      <th>0</th>\n",
              "      <td>1946-09-01 00:00:00.000000</td>\n",
              "      <td>366.0</td>\n",
              "      <td>98.0</td>\n",
              "      <td>124.0</td>\n",
              "      <td>63.0</td>\n",
              "      <td>NaN</td>\n",
              "      <td>NaN</td>\n",
              "      <td>NaN</td>\n",
              "    </tr>\n",
              "    <tr>\n",
              "      <th>1</th>\n",
              "      <td>1946-06-01 00:00:00.000000</td>\n",
              "      <td>461.0</td>\n",
              "      <td>78.0</td>\n",
              "      <td>505.0</td>\n",
              "      <td>75.0</td>\n",
              "      <td>NaN</td>\n",
              "      <td>NaN</td>\n",
              "      <td>NaN</td>\n",
              "    </tr>\n",
              "    <tr>\n",
              "      <th>2</th>\n",
              "      <td>1951-06-01 00:00:00.000000</td>\n",
              "      <td>591.0</td>\n",
              "      <td>78.0</td>\n",
              "      <td>798.0</td>\n",
              "      <td>39.0</td>\n",
              "      <td>NaN</td>\n",
              "      <td>NaN</td>\n",
              "      <td>NaN</td>\n",
              "    </tr>\n",
              "    <tr>\n",
              "      <th>3</th>\n",
              "      <td>1946-05-01 00:00:00.000000</td>\n",
              "      <td>605.0</td>\n",
              "      <td>83.0</td>\n",
              "      <td>810.0</td>\n",
              "      <td>65.0</td>\n",
              "      <td>NaN</td>\n",
              "      <td>NaN</td>\n",
              "      <td>NaN</td>\n",
              "    </tr>\n",
              "    <tr>\n",
              "      <th>4</th>\n",
              "      <td>1944-04-01 00:00:00.000000</td>\n",
              "      <td>650.0</td>\n",
              "      <td>89.0</td>\n",
              "      <td>978.0</td>\n",
              "      <td>66.0</td>\n",
              "      <td>NaN</td>\n",
              "      <td>NaN</td>\n",
              "      <td>NaN</td>\n",
              "    </tr>\n",
              "  </tbody>\n",
              "</table>\n",
              "</div>"
            ],
            "text/plain": [
              "                         date   beef  veal  ...  broilers  other_chicken  turkey\n",
              "0  1946-09-01 00:00:00.000000  366.0  98.0  ...       NaN            NaN     NaN\n",
              "1  1946-06-01 00:00:00.000000  461.0  78.0  ...       NaN            NaN     NaN\n",
              "2  1951-06-01 00:00:00.000000  591.0  78.0  ...       NaN            NaN     NaN\n",
              "3  1946-05-01 00:00:00.000000  605.0  83.0  ...       NaN            NaN     NaN\n",
              "4  1944-04-01 00:00:00.000000  650.0  89.0  ...       NaN            NaN     NaN\n",
              "\n",
              "[5 rows x 8 columns]"
            ]
          },
          "metadata": {
            "tags": []
          },
          "execution_count": 15
        }
      ]
    },
    {
      "cell_type": "code",
      "metadata": {
        "id": "qc6UJud0Asn-",
        "colab_type": "code",
        "colab": {}
      },
      "source": [
        "q = \"\"\"SELECT\n",
        "        m.date, m.beef, b.births\n",
        "     FROM\n",
        "        meats m\n",
        "     INNER JOIN\n",
        "        births b\n",
        "           ON m.date = b.date;\"\"\""
      ],
      "execution_count": 0,
      "outputs": []
    },
    {
      "cell_type": "code",
      "metadata": {
        "id": "ty1USmgRwPB4",
        "colab_type": "code",
        "colab": {}
      },
      "source": [
        "joined = pysqldf(q)"
      ],
      "execution_count": 0,
      "outputs": []
    },
    {
      "cell_type": "code",
      "metadata": {
        "id": "mvcHv79Hwf-y",
        "colab_type": "code",
        "colab": {}
      },
      "source": [
        "q = \"\"\"select\n",
        "           strftime('%Y', date) as year\n",
        "           , SUM(beef) as beef_total\n",
        "           FROM\n",
        "              meat\n",
        "           GROUP BY\n",
        "              year;\"\"\""
      ],
      "execution_count": 0,
      "outputs": []
    },
    {
      "cell_type": "code",
      "metadata": {
        "id": "PXSzOyC7wQ3W",
        "colab_type": "code",
        "outputId": "ef4c5881-e0ea-4c75-c487-a86e720d54ff",
        "colab": {
          "base_uri": "https://localhost:8080/",
          "height": 202
        }
      },
      "source": [
        "pysqldf(q).head()"
      ],
      "execution_count": 0,
      "outputs": [
        {
          "output_type": "execute_result",
          "data": {
            "text/html": [
              "<div>\n",
              "<style scoped>\n",
              "    .dataframe tbody tr th:only-of-type {\n",
              "        vertical-align: middle;\n",
              "    }\n",
              "\n",
              "    .dataframe tbody tr th {\n",
              "        vertical-align: top;\n",
              "    }\n",
              "\n",
              "    .dataframe thead th {\n",
              "        text-align: right;\n",
              "    }\n",
              "</style>\n",
              "<table border=\"1\" class=\"dataframe\">\n",
              "  <thead>\n",
              "    <tr style=\"text-align: right;\">\n",
              "      <th></th>\n",
              "      <th>year</th>\n",
              "      <th>beef_total</th>\n",
              "    </tr>\n",
              "  </thead>\n",
              "  <tbody>\n",
              "    <tr>\n",
              "      <th>0</th>\n",
              "      <td>1944</td>\n",
              "      <td>8801.0</td>\n",
              "    </tr>\n",
              "    <tr>\n",
              "      <th>1</th>\n",
              "      <td>1945</td>\n",
              "      <td>9936.0</td>\n",
              "    </tr>\n",
              "    <tr>\n",
              "      <th>2</th>\n",
              "      <td>1946</td>\n",
              "      <td>9010.0</td>\n",
              "    </tr>\n",
              "    <tr>\n",
              "      <th>3</th>\n",
              "      <td>1947</td>\n",
              "      <td>10096.0</td>\n",
              "    </tr>\n",
              "    <tr>\n",
              "      <th>4</th>\n",
              "      <td>1948</td>\n",
              "      <td>8766.0</td>\n",
              "    </tr>\n",
              "  </tbody>\n",
              "</table>\n",
              "</div>"
            ],
            "text/plain": [
              "   year  beef_total\n",
              "0  1944      8801.0\n",
              "1  1945      9936.0\n",
              "2  1946      9010.0\n",
              "3  1947     10096.0\n",
              "4  1948      8766.0"
            ]
          },
          "metadata": {
            "tags": []
          },
          "execution_count": 19
        }
      ]
    },
    {
      "cell_type": "code",
      "metadata": {
        "id": "k-y4XbboC4wh",
        "colab_type": "code",
        "colab": {
          "base_uri": "https://localhost:8080/",
          "height": 373
        },
        "outputId": "3e5ae621-8baf-4276-d5e2-7a3ec816b9a8"
      },
      "source": [
        "!pip install pydbgen "
      ],
      "execution_count": 16,
      "outputs": [
        {
          "output_type": "stream",
          "text": [
            "Collecting pydbgen\n",
            "\u001b[?25l  Downloading https://files.pythonhosted.org/packages/0d/4b/3b9e324838d4640a0b5eb9e452a6af6876625a6343c065ef0323921955b7/pydbgen-1.0.5-py3-none-any.whl (81kB)\n",
            "\u001b[K     |████████████████████████████████| 81kB 9.2MB/s \n",
            "\u001b[?25hCollecting Faker (from pydbgen)\n",
            "\u001b[?25l  Downloading https://files.pythonhosted.org/packages/bf/5a/44c04abc182990d716eb7703502aa851433ea66569bd72765ef1abdaea9c/Faker-2.0.2-py2.py3-none-any.whl (879kB)\n",
            "\u001b[K     |████████████████████████████████| 880kB 27.6MB/s \n",
            "\u001b[?25hRequirement already satisfied: six in /usr/local/lib/python3.6/dist-packages (from pydbgen) (1.12.0)\n",
            "Requirement already satisfied: Pandas in /usr/local/lib/python3.6/dist-packages (from pydbgen) (0.24.2)\n",
            "Collecting text-unidecode==1.3 (from Faker->pydbgen)\n",
            "\u001b[?25l  Downloading https://files.pythonhosted.org/packages/a6/a5/c0b6468d3824fe3fde30dbb5e1f687b291608f9473681bbf7dabbf5a87d7/text_unidecode-1.3-py2.py3-none-any.whl (78kB)\n",
            "\u001b[K     |████████████████████████████████| 81kB 28.6MB/s \n",
            "\u001b[?25hRequirement already satisfied: python-dateutil>=2.4 in /usr/local/lib/python3.6/dist-packages (from Faker->pydbgen) (2.5.3)\n",
            "Requirement already satisfied: numpy>=1.12.0 in /usr/local/lib/python3.6/dist-packages (from Pandas->pydbgen) (1.16.5)\n",
            "Requirement already satisfied: pytz>=2011k in /usr/local/lib/python3.6/dist-packages (from Pandas->pydbgen) (2018.9)\n",
            "\u001b[31mERROR: python-slugify 3.0.3 has requirement text-unidecode==1.2, but you'll have text-unidecode 1.3 which is incompatible.\u001b[0m\n",
            "Installing collected packages: text-unidecode, Faker, pydbgen\n",
            "  Found existing installation: text-unidecode 1.2\n",
            "    Uninstalling text-unidecode-1.2:\n",
            "      Successfully uninstalled text-unidecode-1.2\n",
            "Successfully installed Faker-2.0.2 pydbgen-1.0.5 text-unidecode-1.3\n"
          ],
          "name": "stdout"
        }
      ]
    },
    {
      "cell_type": "code",
      "metadata": {
        "id": "3EMI2YWfC_Wd",
        "colab_type": "code",
        "colab": {}
      },
      "source": [
        "import pydbgen\n",
        "from pydbgen import pydbgen\n",
        "myDB=pydbgen.pydb()"
      ],
      "execution_count": 0,
      "outputs": []
    },
    {
      "cell_type": "code",
      "metadata": {
        "id": "UZRLlq3YD4h7",
        "colab_type": "code",
        "colab": {}
      },
      "source": [
        "myDB.gen_dataframe??"
      ],
      "execution_count": 0,
      "outputs": []
    },
    {
      "cell_type": "code",
      "metadata": {
        "id": "I9YePTMTD7dM",
        "colab_type": "code",
        "colab": {}
      },
      "source": [
        "df0=myDB.gen_dataframe(20,['name','city','phone'], seed = 8)"
      ],
      "execution_count": 0,
      "outputs": []
    },
    {
      "cell_type": "code",
      "metadata": {
        "id": "DTsLnKEMEqd1",
        "colab_type": "code",
        "colab": {}
      },
      "source": [
        "df0['id'] = range(20)"
      ],
      "execution_count": 0,
      "outputs": []
    },
    {
      "cell_type": "code",
      "metadata": {
        "id": "PfCxE74eHBnj",
        "colab_type": "code",
        "colab": {
          "base_uri": "https://localhost:8080/",
          "height": 195
        },
        "outputId": "3555834c-22b0-4459-d814-56e5aecb22d7"
      },
      "source": [
        "df0.head()"
      ],
      "execution_count": 33,
      "outputs": [
        {
          "output_type": "execute_result",
          "data": {
            "text/html": [
              "<div>\n",
              "<style scoped>\n",
              "    .dataframe tbody tr th:only-of-type {\n",
              "        vertical-align: middle;\n",
              "    }\n",
              "\n",
              "    .dataframe tbody tr th {\n",
              "        vertical-align: top;\n",
              "    }\n",
              "\n",
              "    .dataframe thead th {\n",
              "        text-align: right;\n",
              "    }\n",
              "</style>\n",
              "<table border=\"1\" class=\"dataframe\">\n",
              "  <thead>\n",
              "    <tr style=\"text-align: right;\">\n",
              "      <th></th>\n",
              "      <th>name</th>\n",
              "      <th>city</th>\n",
              "      <th>phone-number</th>\n",
              "      <th>id</th>\n",
              "    </tr>\n",
              "  </thead>\n",
              "  <tbody>\n",
              "    <tr>\n",
              "      <th>0</th>\n",
              "      <td>Elizabeth Green</td>\n",
              "      <td>Slagle</td>\n",
              "      <td>318-353-4420</td>\n",
              "      <td>0</td>\n",
              "    </tr>\n",
              "    <tr>\n",
              "      <th>1</th>\n",
              "      <td>Kimberly Romero</td>\n",
              "      <td>Stony Prairie</td>\n",
              "      <td>831-762-0535</td>\n",
              "      <td>1</td>\n",
              "    </tr>\n",
              "    <tr>\n",
              "      <th>2</th>\n",
              "      <td>Edward Hawkins</td>\n",
              "      <td>Sioux Center</td>\n",
              "      <td>263-489-3560</td>\n",
              "      <td>2</td>\n",
              "    </tr>\n",
              "    <tr>\n",
              "      <th>3</th>\n",
              "      <td>Julie Walsh</td>\n",
              "      <td>Johnsons Station</td>\n",
              "      <td>839-254-9850</td>\n",
              "      <td>3</td>\n",
              "    </tr>\n",
              "    <tr>\n",
              "      <th>4</th>\n",
              "      <td>Michael Smith</td>\n",
              "      <td>Mentor</td>\n",
              "      <td>580-432-8850</td>\n",
              "      <td>4</td>\n",
              "    </tr>\n",
              "  </tbody>\n",
              "</table>\n",
              "</div>"
            ],
            "text/plain": [
              "              name              city  phone-number  id\n",
              "0  Elizabeth Green            Slagle  318-353-4420   0\n",
              "1  Kimberly Romero     Stony Prairie  831-762-0535   1\n",
              "2   Edward Hawkins      Sioux Center  263-489-3560   2\n",
              "3      Julie Walsh  Johnsons Station  839-254-9850   3\n",
              "4    Michael Smith            Mentor  580-432-8850   4"
            ]
          },
          "metadata": {
            "tags": []
          },
          "execution_count": 33
        }
      ]
    },
    {
      "cell_type": "code",
      "metadata": {
        "id": "ja2Bwvx2DRlI",
        "colab_type": "code",
        "colab": {
          "base_uri": "https://localhost:8080/",
          "height": 195
        },
        "outputId": "b79be4b9-43c8-47fc-865f-5c5a309661b0"
      },
      "source": [
        "df1=myDB.gen_dataframe(20,['company','country','city'])\n",
        "df1['id'] = range(20)\n",
        "df1.head()"
      ],
      "execution_count": 31,
      "outputs": [
        {
          "output_type": "execute_result",
          "data": {
            "text/html": [
              "<div>\n",
              "<style scoped>\n",
              "    .dataframe tbody tr th:only-of-type {\n",
              "        vertical-align: middle;\n",
              "    }\n",
              "\n",
              "    .dataframe tbody tr th {\n",
              "        vertical-align: top;\n",
              "    }\n",
              "\n",
              "    .dataframe thead th {\n",
              "        text-align: right;\n",
              "    }\n",
              "</style>\n",
              "<table border=\"1\" class=\"dataframe\">\n",
              "  <thead>\n",
              "    <tr style=\"text-align: right;\">\n",
              "      <th></th>\n",
              "      <th>company</th>\n",
              "      <th>country</th>\n",
              "      <th>city</th>\n",
              "      <th>id</th>\n",
              "    </tr>\n",
              "  </thead>\n",
              "  <tbody>\n",
              "    <tr>\n",
              "      <th>0</th>\n",
              "      <td>Jordan LLC</td>\n",
              "      <td>Christmas Island</td>\n",
              "      <td>Hineston</td>\n",
              "      <td>0</td>\n",
              "    </tr>\n",
              "    <tr>\n",
              "      <th>1</th>\n",
              "      <td>Marshall-Greene</td>\n",
              "      <td>Tajikistan</td>\n",
              "      <td>Flower Mound</td>\n",
              "      <td>1</td>\n",
              "    </tr>\n",
              "    <tr>\n",
              "      <th>2</th>\n",
              "      <td>Robertson Group</td>\n",
              "      <td>Norway</td>\n",
              "      <td>Ferrelview</td>\n",
              "      <td>2</td>\n",
              "    </tr>\n",
              "    <tr>\n",
              "      <th>3</th>\n",
              "      <td>Simpson and Sons</td>\n",
              "      <td>Russian Federation</td>\n",
              "      <td>Kent City</td>\n",
              "      <td>3</td>\n",
              "    </tr>\n",
              "    <tr>\n",
              "      <th>4</th>\n",
              "      <td>Ortiz, Marshall and Bell</td>\n",
              "      <td>Swaziland</td>\n",
              "      <td>Denton</td>\n",
              "      <td>4</td>\n",
              "    </tr>\n",
              "  </tbody>\n",
              "</table>\n",
              "</div>"
            ],
            "text/plain": [
              "                    company             country          city  id\n",
              "0                Jordan LLC    Christmas Island      Hineston   0\n",
              "1           Marshall-Greene          Tajikistan  Flower Mound   1\n",
              "2           Robertson Group              Norway    Ferrelview   2\n",
              "3          Simpson and Sons  Russian Federation     Kent City   3\n",
              "4  Ortiz, Marshall and Bell           Swaziland        Denton   4"
            ]
          },
          "metadata": {
            "tags": []
          },
          "execution_count": 31
        }
      ]
    },
    {
      "cell_type": "code",
      "metadata": {
        "id": "C1uxlMldC_Hx",
        "colab_type": "code",
        "colab": {}
      },
      "source": [
        ""
      ],
      "execution_count": 0,
      "outputs": []
    },
    {
      "cell_type": "code",
      "metadata": {
        "id": "QOvZ7nAgC36s",
        "colab_type": "code",
        "colab": {}
      },
      "source": [
        "testdf=myDB.gen_dataframe(20,['name','city','phone','date'])\n"
      ],
      "execution_count": 0,
      "outputs": []
    },
    {
      "cell_type": "markdown",
      "metadata": {
        "id": "7cE4PXRzTVKQ",
        "colab_type": "text"
      },
      "source": [
        "Multiple table; synthetic data for practice"
      ]
    },
    {
      "cell_type": "code",
      "metadata": {
        "id": "8gTXYP4VCPCG",
        "colab_type": "code",
        "colab": {}
      },
      "source": [
        "q = \"\"\"\n",
        "SELECT * FROM df0 \n",
        "INNER JOIN df1 \n",
        "ON df0.id=df1.id\n",
        "\"\"\""
      ],
      "execution_count": 0,
      "outputs": []
    },
    {
      "cell_type": "markdown",
      "metadata": {
        "id": "iTTP-pyIXei7",
        "colab_type": "text"
      },
      "source": [
        "Use the result as one table, nested"
      ]
    },
    {
      "cell_type": "code",
      "metadata": {
        "id": "LQGzLxq3DMh3",
        "colab_type": "code",
        "colab": {}
      },
      "source": [
        "q = \"\"\"\n",
        "SELECT name FROM \n",
        "(SELECT * FROM df0 \n",
        "INNER JOIN df1 \n",
        "ON df0.id=df1.id) a\n",
        "\"\"\""
      ],
      "execution_count": 0,
      "outputs": []
    },
    {
      "cell_type": "code",
      "metadata": {
        "id": "oEOUmlJhDooH",
        "colab_type": "code",
        "colab": {}
      },
      "source": [
        "q = \"\"\"\n",
        "SELECT a.name FROM \n",
        "(SELECT * FROM df0 \n",
        "INNER JOIN df1 \n",
        "ON df0.id=df1.id) a\n",
        "\"\"\""
      ],
      "execution_count": 0,
      "outputs": []
    },
    {
      "cell_type": "code",
      "metadata": {
        "id": "Ivyz-yirCU2S",
        "colab_type": "code",
        "outputId": "9b585e8f-d42d-4a49-ac4b-1268af1d29f4",
        "colab": {
          "base_uri": "https://localhost:8080/",
          "height": 195
        }
      },
      "source": [
        "pysqldf(q).head()"
      ],
      "execution_count": 0,
      "outputs": [
        {
          "output_type": "execute_result",
          "data": {
            "text/html": [
              "<div>\n",
              "<style scoped>\n",
              "    .dataframe tbody tr th:only-of-type {\n",
              "        vertical-align: middle;\n",
              "    }\n",
              "\n",
              "    .dataframe tbody tr th {\n",
              "        vertical-align: top;\n",
              "    }\n",
              "\n",
              "    .dataframe thead th {\n",
              "        text-align: right;\n",
              "    }\n",
              "</style>\n",
              "<table border=\"1\" class=\"dataframe\">\n",
              "  <thead>\n",
              "    <tr style=\"text-align: right;\">\n",
              "      <th></th>\n",
              "      <th>name</th>\n",
              "    </tr>\n",
              "  </thead>\n",
              "  <tbody>\n",
              "    <tr>\n",
              "      <th>0</th>\n",
              "      <td>Elizabeth Green</td>\n",
              "    </tr>\n",
              "    <tr>\n",
              "      <th>1</th>\n",
              "      <td>Kimberly Romero</td>\n",
              "    </tr>\n",
              "    <tr>\n",
              "      <th>2</th>\n",
              "      <td>Edward Hawkins</td>\n",
              "    </tr>\n",
              "    <tr>\n",
              "      <th>3</th>\n",
              "      <td>Julie Walsh</td>\n",
              "    </tr>\n",
              "    <tr>\n",
              "      <th>4</th>\n",
              "      <td>Michael Smith</td>\n",
              "    </tr>\n",
              "  </tbody>\n",
              "</table>\n",
              "</div>"
            ],
            "text/plain": [
              "              name\n",
              "0  Elizabeth Green\n",
              "1  Kimberly Romero\n",
              "2   Edward Hawkins\n",
              "3      Julie Walsh\n",
              "4    Michael Smith"
            ]
          },
          "metadata": {
            "tags": []
          },
          "execution_count": 46
        }
      ]
    },
    {
      "cell_type": "markdown",
      "metadata": {
        "id": "d_dwU39CD84Q",
        "colab_type": "text"
      },
      "source": [
        "Inner join 2 nested"
      ]
    },
    {
      "cell_type": "code",
      "metadata": {
        "id": "f1VpvlmgXeCC",
        "colab_type": "code",
        "colab": {}
      },
      "source": [
        ""
      ],
      "execution_count": 0,
      "outputs": []
    }
  ]
}
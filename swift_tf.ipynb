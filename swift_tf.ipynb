{
  "nbformat": 4,
  "nbformat_minor": 0,
  "metadata": {
    "colab": {
      "name": "swift_tf",
      "version": "0.3.2",
      "provenance": [],
      "collapsed_sections": []
    },
    "language_info": {
      "file_extension": ".swift",
      "mimetype": "text/x-swift",
      "name": "swift",
      "version": ""
    },
    "kernelspec": {
      "display_name": "Swift",
      "language": "swift",
      "name": "swift"
    },
    "accelerator": "GPU"
  },
  "cells": [
    {
      "cell_type": "markdown",
      "metadata": {
        "colab_type": "text",
        "id": "JtEZ1pCPn--z"
      },
      "source": [
        "# Model training walkthrough"
      ]
    },
    {
      "cell_type": "markdown",
      "metadata": {
        "colab_type": "text",
        "id": "LDrzLFXE8T1l"
      },
      "source": [
        "machine learning model that categorizes iris flowers by species. \n",
        "\n",
        "1. Build a model,\n",
        "2. Train this model on example data, and\n",
        "3. Use the model to make predictions about unknown data.\n",
        "\n",
        "## TensorFlow programming\n",
        "\n",
        "uses these high-level Swift for TensorFlow concepts:\n",
        "\n",
        "* Import data with the Datasets API.\n",
        "* Build models using Swift abstractions.\n",
        "* Use Python libraries using Swift's Python interoperability when pure Swift libraries are not available.\n",
        "\n",
        "structured like many TensorFlow programs:\n",
        "\n",
        "1. Import and parse the data sets.\n",
        "2. Select the type of model.\n",
        "3. Train the model.\n",
        "4. Evaluate the model's effectiveness.\n",
        "5. Use the trained model to make predictions."
      ]
    },
    {
      "cell_type": "code",
      "metadata": {
        "colab_type": "code",
        "id": "g4Wzg69bnwK2",
        "scrolled": true,
        "colab": {}
      },
      "source": [
        "import TensorFlow\n",
        "\n",
        "import Python\n",
        "%include \"EnableIPythonDisplay.swift\"\n",
        "IPythonDisplay.shell.enable_matplotlib(\"inline\")\n",
        "let plt = Python.import(\"matplotlib.pyplot\")"
      ],
      "execution_count": 0,
      "outputs": []
    },
    {
      "cell_type": "code",
      "metadata": {
        "id": "DgXtRpoamN3-",
        "colab_type": "code",
        "colab": {}
      },
      "source": [
        "// Download a helper file that helps us work around some temporary limitations\n",
        "// in the dataset API.\n",
        "import Foundation\n",
        "import FoundationNetworking\n",
        "func download(from sourceString: String, to destinationString: String) {\n",
        "    let source = URL(string: sourceString)!\n",
        "    let destination = URL(fileURLWithPath: destinationString)\n",
        "    let data = try! Data.init(contentsOf: source)\n",
        "    try! data.write(to: destination)\n",
        "}\n"
      ],
      "execution_count": 0,
      "outputs": []
    },
    {
      "cell_type": "code",
      "metadata": {
        "id": "nWTok4IEBbL9",
        "colab_type": "code",
        "colab": {}
      },
      "source": [
        "download(\n",
        "    from: \"https://raw.githubusercontent.com/tensorflow/swift/master/docs/site/tutorials/TutorialDatasetCSVAPI.swift\",\n",
        "    to: \"TutorialDatasetCSVAPI.swift\")"
      ],
      "execution_count": 0,
      "outputs": []
    },
    {
      "cell_type": "markdown",
      "metadata": {
        "colab_type": "text",
        "id": "Zx7wc0LuuxaJ"
      },
      "source": [
        "## The iris classification problem\n",
        "* Iris setosa\n",
        "* Iris virginica\n",
        "* Iris versicolor\n",
        "\n",
        "<table>\n",
        "  <tr><td>\n",
        "    <img src=\"https://www.tensorflow.org/images/iris_three_species.jpg\"\n",
        "         alt=\"Petal geometry compared for three iris species: Iris setosa, Iris virginica, and Iris versicolor\">\n",
        "  </td></tr>\n",
        "  <tr><td align=\"center\">\n",
        "    <b>Figure 1.</b> <a href=\"https://commons.wikimedia.org/w/index.php?curid=170298\">Iris setosa</a> (by <a href=\"https://commons.wikimedia.org/wiki/User:Radomil\">Radomil</a>, CC BY-SA 3.0), <a href=\"https://commons.wikimedia.org/w/index.php?curid=248095\">Iris versicolor</a>, (by <a href=\"https://commons.wikimedia.org/wiki/User:Dlanglois\">Dlanglois</a>, CC BY-SA 3.0), and <a href=\"https://www.flickr.com/photos/33397993@N05/3352169862\">Iris virginica</a> (by <a href=\"https://www.flickr.com/photos/33397993@N05\">Frank Mayfield</a>, CC BY-SA 2.0).<br/>&nbsp;\n",
        "  </td></tr>\n",
        "</table>\n"
      ]
    },
    {
      "cell_type": "code",
      "metadata": {
        "colab_type": "code",
        "id": "DKkgac4WO0mP",
        "scrolled": true,
        "colab": {}
      },
      "source": [
        "// Import and parse the training dataset\n",
        "\n",
        "// Download the dataset file and convert it into a structure that can be used by this Swift program.\n",
        "\n",
        "// from http://download.tensorflow.org/data/iris_training.csv.\n",
        "\n",
        "let trainDataFilename = \"iris_training.csv\"\n",
        "download(from: \"http://download.tensorflow.org/data/iris_training.csv\", to: trainDataFilename)\n"
      ],
      "execution_count": 0,
      "outputs": []
    },
    {
      "cell_type": "code",
      "metadata": {
        "colab_type": "code",
        "id": "FQvb_JYdrpPm",
        "outputId": "178d2836-ce85-49a2-f7af-4c3f1dc08e23",
        "scrolled": true,
        "colab": {
          "base_uri": "https://localhost:8080/",
          "height": 119
        }
      },
      "source": [
        "// This dataset, `iris_training.csv`, is a plain text file that stores tabular data formatted as comma-separated values (CSV). Let's look a the first 5 entries.\n",
        "let f = Python.open(trainDataFilename)\n",
        "for _ in 0..<5 {\n",
        "    print(Python.next(f).strip())\n",
        "}\n",
        "f.close()\n",
        "// The first line is a header containing information about the dataset:\n",
        "//   * There are 120 total examples. Each example has four features and one of three possible label names. "
      ],
      "execution_count": 39,
      "outputs": [
        {
          "output_type": "stream",
          "text": [
            "120,4,setosa,versicolor,virginica\r\n",
            "6.4,2.8,5.6,2.2,2\r\n",
            "5.0,2.3,3.3,1.0,1\r\n",
            "4.9,2.5,4.5,1.7,2\r\n",
            "4.9,3.1,1.5,0.1,0\r\n"
          ],
          "name": "stdout"
        },
        {
          "output_type": "execute_result",
          "data": {
            "text/plain": [
              "None\n"
            ]
          },
          "metadata": {
            "tags": []
          },
          "execution_count": 39
        }
      ]
    },
    {
      "cell_type": "code",
      "metadata": {
        "colab_type": "code",
        "id": "9Edhevw7exl6",
        "outputId": "17607bfe-a2b7-46d4-cbba-ea23bfb19bc5",
        "scrolled": true,
        "colab": {
          "base_uri": "https://localhost:8080/",
          "height": 51
        }
      },
      "source": [
        "let featureNames = [\"sepal_length\", \"sepal_width\", \"petal_length\", \"petal_width\"]\n",
        "let labelName = \"species\"\n",
        "let columnNames = featureNames + [labelName]\n",
        "\n",
        "print(\"Features: \\(featureNames)\")\n",
        "print(\"Label: \\(labelName)\")"
      ],
      "execution_count": 40,
      "outputs": [
        {
          "output_type": "stream",
          "text": [
            "Features: [\"sepal_length\", \"sepal_width\", \"petal_length\", \"petal_width\"]\r\n",
            "Label: species\r\n"
          ],
          "name": "stdout"
        }
      ]
    },
    {
      "cell_type": "markdown",
      "metadata": {
        "colab_type": "text",
        "id": "CCtwLoJhhDNc"
      },
      "source": [
        "* `0`: Iris setosa\n",
        "* `1`: Iris versicolor\n",
        "* `2`: Iris virginica\n"
      ]
    },
    {
      "cell_type": "code",
      "metadata": {
        "colab_type": "code",
        "id": "sVNlJlUOhkoX",
        "scrolled": true,
        "colab": {}
      },
      "source": [
        "let classNames = [\"Iris setosa\", \"Iris versicolor\", \"Iris virginica\"]"
      ],
      "execution_count": 0,
      "outputs": []
    },
    {
      "cell_type": "markdown",
      "metadata": {
        "colab_type": "text",
        "id": "dqPkQExM2Pwt"
      },
      "source": [
        "### Create a Dataset\n",
        "\n",
        "Swift for TensorFlow's Dataset API is a high-level API for reading data and transforming it into a form used for training.\n",
        "\n",
        "Eventually, the Dataset API will be able to load data from many file formats. The Dataset API is currently very incomplete, so we include some glue code from \"TutorialDatasetCSVAPI.swift\" that helps the Dataset API load data from the CSV file into the `IrisBatch` struct."
      ]
    },
    {
      "cell_type": "code",
      "metadata": {
        "colab_type": "code",
        "id": "bBx_C6UWO0mc",
        "scrolled": true,
        "colab": {}
      },
      "source": [
        "let batchSize = 32\n",
        "\n",
        "/// A batch of examples from the iris dataset.\n",
        "struct IrisBatch {\n",
        "    /// [batchSize, featureCount] tensor of features.\n",
        "    let features: Tensor<Float>\n",
        "\n",
        "    /// [batchSize] tensor of labels.\n",
        "    let labels: Tensor<Int32>\n",
        "}\n",
        "\n",
        "%include \"TutorialDatasetCSVAPI.swift\"\n",
        "\n",
        "let trainDataset: Dataset<IrisBatch> = Dataset(\n",
        "    contentsOfCSVFile: trainDataFilename, hasHeader: true,\n",
        "    featureColumns: [0, 1, 2, 3], labelColumns: [4]\n",
        ").batched(batchSize)"
      ],
      "execution_count": 0,
      "outputs": []
    },
    {
      "cell_type": "markdown",
      "metadata": {
        "colab_type": "text",
        "id": "gB_RSn62c-3G"
      },
      "source": [
        "The `Dataset<IrisBatch>` is a sequence of `IrisBatch`es. Let's look at the first element of the dataset."
      ]
    },
    {
      "cell_type": "code",
      "metadata": {
        "colab_type": "code",
        "id": "iDuG94H-C122",
        "outputId": "27f4ab30-19c1-4581-b5f6-ff691332ab2e",
        "scrolled": true,
        "colab": {
          "base_uri": "https://localhost:8080/",
          "height": 578
        }
      },
      "source": [
        "let firstTrainExamples = trainDataset.first!\n",
        "let firstTrainFeatures = firstTrainExamples.features\n",
        "let firstTrainLabels = firstTrainExamples.labels\n",
        "print(\"First batch of features: \\(firstTrainFeatures)\")\n",
        "print(\"First batch of labels: \\(firstTrainLabels)\")"
      ],
      "execution_count": 43,
      "outputs": [
        {
          "output_type": "stream",
          "text": [
            "First batch of features: [[6.4, 2.8, 5.6, 2.2],\r\n",
            " [5.0, 2.3, 3.3, 1.0],\r\n",
            " [4.9, 2.5, 4.5, 1.7],\r\n",
            " [4.9, 3.1, 1.5, 0.1],\r\n",
            " [5.7, 3.8, 1.7, 0.3],\r\n",
            " [4.4, 3.2, 1.3, 0.2],\r\n",
            " [5.4, 3.4, 1.5, 0.4],\r\n",
            " [6.9, 3.1, 5.1, 2.3],\r\n",
            " [6.7, 3.1, 4.4, 1.4],\r\n",
            " [5.1, 3.7, 1.5, 0.4],\r\n",
            " [5.2, 2.7, 3.9, 1.4],\r\n",
            " [6.9, 3.1, 4.9, 1.5],\r\n",
            " [5.8, 4.0, 1.2, 0.2],\r\n",
            " [5.4, 3.9, 1.7, 0.4],\r\n",
            " [7.7, 3.8, 6.7, 2.2],\r\n",
            " [6.3, 3.3, 4.7, 1.6],\r\n",
            " [6.8, 3.2, 5.9, 2.3],\r\n",
            " [7.6, 3.0, 6.6, 2.1],\r\n",
            " [6.4, 3.2, 5.3, 2.3],\r\n",
            " [5.7, 4.4, 1.5, 0.4],\r\n",
            " [6.7, 3.3, 5.7, 2.1],\r\n",
            " [6.4, 2.8, 5.6, 2.1],\r\n",
            " [5.4, 3.9, 1.3, 0.4],\r\n",
            " [6.1, 2.6, 5.6, 1.4],\r\n",
            " [7.2, 3.0, 5.8, 1.6],\r\n",
            " [5.2, 3.5, 1.5, 0.2],\r\n",
            " [5.8, 2.6, 4.0, 1.2],\r\n",
            " [5.9, 3.0, 5.1, 1.8],\r\n",
            " [5.4, 3.0, 4.5, 1.5],\r\n",
            " [6.7, 3.0, 5.0, 1.7],\r\n",
            " [6.3, 2.3, 4.4, 1.3],\r\n",
            " [5.1, 2.5, 3.0, 1.1]]\r\n",
            "First batch of labels: [2, 1, 2, 0, 0, 0, 0, 2, 1, 0, 1, 1, 0, 0, 2, 1, 2, 2, 2, 0, 2, 2, 0, 2, 2, 0, 1, 2, 1, 1, 1, 1]\r\n"
          ],
          "name": "stdout"
        }
      ]
    },
    {
      "cell_type": "markdown",
      "metadata": {
        "colab_type": "text",
        "id": "E63mArnQaAGz"
      },
      "source": [
        "Notice that the features for the first `batchSize` examples are grouped together (or *batched*) into `firstTrainFeatures`, and that the labels for the first `batchSize` examples are batched into `firstTrainLabels`.\n",
        "\n",
        "You can start to see some clusters by plotting a few features from the batch, using Python's matplotlib:"
      ]
    },
    {
      "cell_type": "code",
      "metadata": {
        "colab_type": "code",
        "id": "me5Wn-9FcyyO",
        "outputId": "143926b4-c980-42d8-bad1-7e2c2a42a847",
        "scrolled": false,
        "colab": {
          "base_uri": "https://localhost:8080/",
          "height": 300
        }
      },
      "source": [
        "let firstTrainFeaturesTransposed = firstTrainFeatures.transposed()\n",
        "let petalLengths = firstTrainFeaturesTransposed[2].scalars\n",
        "let sepalLengths = firstTrainFeaturesTransposed[0].scalars\n",
        "\n",
        "plt.scatter(petalLengths, sepalLengths, c: firstTrainLabels.array.scalars)\n",
        "plt.xlabel(\"Petal length\")\n",
        "plt.ylabel(\"Sepal length\")\n",
        "plt.show()"
      ],
      "execution_count": 44,
      "outputs": [
        {
          "output_type": "display_data",
          "data": {
            "image/png": "[encoded data removed]",
            "text/plain": [
              "<Figure size 432x288 with 1 Axes>"
            ]
          },
          "metadata": {
            "tags": []
          }
        },
        {
          "output_type": "execute_result",
          "data": {
            "text/plain": [
              "None\n"
            ]
          },
          "metadata": {
            "tags": []
          },
          "execution_count": 44
        }
      ]
    },
    {
      "cell_type": "markdown",
      "metadata": {
        "colab_type": "text",
        "id": "W23DIMVPQEBt"
      },
      "source": [
        "A model is a `struct` that conforms to [`Layer`](https://www.tensorflow.org/swift/api_docs/Protocols/Layer), defines a [`call(_:)`](https://www.tensorflow.org/swift/api_docs/Protocols/Layer#call_:) method that maps input `Tensor`s to output `Tensor`s. The `call(_:)` method often simply sequences the input through sublayers. \n",
        "`IrisModel` sequences the input through three [`Dense`](https://www.tensorflow.org/swift/api_docs/Structs/Dense) sublayers."
      ]
    },
    {
      "cell_type": "code",
      "metadata": {
        "colab_type": "code",
        "id": "wr5A5WvthvZ0",
        "scrolled": true,
        "colab": {}
      },
      "source": [
        "let hiddenSize: Int = 20\n",
        "struct IrisModel: Layer {\n",
        "    var layer1 = Dense<Float>(inputSize: 4, outputSize: hiddenSize, activation: relu)\n",
        "    var layer2 = Dense<Float>(inputSize: hiddenSize, outputSize: hiddenSize, activation: relu)\n",
        "    var layer3 = Dense<Float>(inputSize: hiddenSize, outputSize: 3)\n",
        "    \n",
        "    @differentiable\n",
        "    func callAsFunction(_ input: Tensor<Float>) -> Tensor<Float> {\n",
        "        return input.sequenced(through: layer1, layer2, layer3)\n",
        "    }\n",
        "}\n",
        "\n",
        "var model = IrisModel()"
      ],
      "execution_count": 0,
      "outputs": []
    },
    {
      "cell_type": "markdown",
      "metadata": {
        "colab_type": "text",
        "id": "fK0vrIRv_tcc"
      },
      "source": [
        "The activation function determines the output shape of each node in the layer.\n"
      ]
    },
    {
      "cell_type": "code",
      "metadata": {
        "colab_type": "code",
        "id": "sKjJGIYzO0mr",
        "outputId": "af5645b5-cc75-4c2f-df0f-9979ca1bc9df",
        "scrolled": true,
        "colab": {
          "base_uri": "https://localhost:8080/",
          "height": 102
        }
      },
      "source": [
        "// Apply the model to a batch of features.\n",
        "let firstTrainPredictions = model(firstTrainFeatures)\n",
        "firstTrainPredictions[0..<5]"
      ],
      "execution_count": 46,
      "outputs": [
        {
          "output_type": "execute_result",
          "data": {
            "text/plain": [
              "[[ -1.7329772, -0.13151097,  0.19777158],\n",
              " [ -1.1974344, -0.06770605,   0.1761316],\n",
              " [  -1.349941, -0.14748853,  0.13317056],\n",
              " [ -1.0228678, 0.017132223,   0.1877974],\n",
              " [ -1.1936471, 0.013257623,  0.21275392]]\n"
            ]
          },
          "metadata": {
            "tags": []
          },
          "execution_count": 46
        }
      ]
    },
    {
      "cell_type": "markdown",
      "metadata": {
        "colab_type": "text",
        "id": "wxyXOhwVr5S3"
      },
      "source": [
        "Here, each example returns a [logit](https://developers.google.com/machine-learning/crash-course/glossary#logits) for each class. \n",
        "\n",
        "To convert these logits to a probability for each class, use the [softmax](https://developers.google.com/machine-learning/crash-course/glossary#softmax) function:"
      ]
    },
    {
      "cell_type": "code",
      "metadata": {
        "id": "w9DHYDrvhIvK",
        "colab_type": "code",
        "outputId": "d1a83517-5aa0-488c-e3ba-b519cb6b0dd7",
        "colab": {
          "base_uri": "https://localhost:8080/",
          "height": 340
        }
      },
      "source": [
        "model.layer1"
      ],
      "execution_count": 47,
      "outputs": [
        {
          "output_type": "execute_result",
          "data": {
            "text/plain": [
              "▿ Dense<Float>\n",
              "  - weight : [[  -0.14492011,   -0.37954563,   -0.16574049,     0.3085397,   0.014497697,   -0.28915244,\n",
              "    0.051759124,    0.20387083,    0.43077147,   -0.37560666,  0.0128573775,    0.14746654,\n",
              "    -0.46427745,     -0.347071,   -0.27823567,   -0.44490415,    0.21269625,    0.16966563,\n",
              "     -0.2250281,    0.08960563],\n",
              " [    0.4164847,   -0.42250705,    0.37574083,   -0.26941198,    0.12186271,    0.03589827,\n",
              "   -0.023880959,   -0.20080477,  -0.111144066,   -0.24596316,   -0.44131857,    0.25859576,\n",
              "   -0.041369915,     0.3730446,     0.3214333,  -0.009039223,   0.106165886,     0.4246788,\n",
              "    -0.08701587,   -0.38448274],\n",
              " [  -0.10086638,   -0.16406566,    0.36039305,    0.40359855,  -0.040762603,   -0.25001335,\n",
              "     -0.2762763,    -0.3644892,   -0.12599999,   -0.10050154,    -0.3062815,    0.44099373,\n",
              "     0.32428092,   -0.18351877,  -0.052918136,    0.49296975,  -0.100485384,   -0.18916929,\n",
              "      0.2956305,   -0.44767243],\n",
              " [   0.22463435,    0.27754343,    0.24517715,  -0.048776627, -0.0005801916,     0.4823004,\n",
              "     0.13744432,   -0.47332567,   -0.14139831,   -0.41945088,   -0.47918856,  -0.008722544,\n",
              "    -0.16316718,    0.15953654,   -0.28508234,   -0.16690987,   -0.18278545,    0.14870715,\n",
              "    -0.47366238,    0.08225161]]\n",
              "  - bias : [0.0, 0.0, 0.0, 0.0, 0.0, 0.0, 0.0, 0.0, 0.0, 0.0, 0.0, 0.0, 0.0, 0.0, 0.0, 0.0, 0.0, 0.0, 0.0, 0.0]\n",
              "  - activation : (Function)\n"
            ]
          },
          "metadata": {
            "tags": []
          },
          "execution_count": 47
        }
      ]
    },
    {
      "cell_type": "code",
      "metadata": {
        "id": "p66IaSeQg9Qc",
        "colab_type": "code",
        "outputId": "d01ce89e-08c1-4cd6-8499-c9bb970036e4",
        "colab": {
          "base_uri": "https://localhost:8080/",
          "height": 561
        }
      },
      "source": [
        "firstTrainPredictions"
      ],
      "execution_count": 48,
      "outputs": [
        {
          "output_type": "execute_result",
          "data": {
            "text/plain": [
              "[[    -1.7329772,    -0.13151097,     0.19777158],\n",
              " [    -1.1974344,    -0.06770605,      0.1761316],\n",
              " [     -1.349941,    -0.14748853,     0.13317056],\n",
              " [    -1.0228678,    0.017132223,      0.1877974],\n",
              " [    -1.1936471,    0.013257623,     0.21275392],\n",
              " [    -0.9195043, -0.00034573674,      0.1541571],\n",
              " [     -1.129523,    0.028615057,     0.21262708],\n",
              " [    -1.7541509,    -0.10661441,     0.23848464],\n",
              " [     -1.606487,    -0.08647609,     0.23940669],\n",
              " [     -1.071094,  -0.0008304119,      0.1797471],\n",
              " [    -1.3189634,    -0.11956555,     0.16512263],\n",
              " [     -1.700394,    -0.10663462,     0.23425575],\n",
              " [    -1.1852164,    0.047620267,      0.2252725],\n",
              " [    -1.1387551,   -0.008177459,     0.18791792],\n",
              " [    -2.0848308,    -0.20082211,     0.22726771],\n",
              " [    -1.5921623,    -0.14633834,      0.1995019],\n",
              " [    -1.8481008,    -0.16160625,      0.2072714],\n",
              " [    -2.0289984,    -0.14850974,       0.228187],\n",
              " [    -1.7058232,     -0.1600421,     0.19565877],\n",
              " [    -1.1867101,   0.0008380711,     0.19526908],\n",
              " [    -1.8003541,     -0.1685304,     0.20181924],\n",
              " [    -1.7357035,    -0.13149834,     0.19857927],\n",
              " [    -1.1193354,    0.021390319,      0.1986916],\n",
              " [    -1.6586404,      -0.148471,      0.1686955],\n",
              " [     -1.855031,    -0.14251322,     0.21979311],\n",
              " [     -1.083974,    0.014972538,      0.1939413],\n",
              " [    -1.4097486,    -0.08591962,     0.19838478],\n",
              " [    -1.5944822,    -0.16179568,      0.1723036],\n",
              " [    -1.4306463,    -0.16595113,     0.15313365],\n",
              " [    -1.6969911,    -0.10479659,     0.22825569],\n",
              " [    -1.5250158,    -0.06648445,      0.2139497],\n",
              " [    -1.1757054,    -0.06192237,     0.18795238]]\n"
            ]
          },
          "metadata": {
            "tags": []
          },
          "execution_count": 48
        }
      ]
    },
    {
      "cell_type": "code",
      "metadata": {
        "colab_type": "code",
        "id": "_tRwHZmTNTX2",
        "outputId": "37b6a9e9-6d70-4759-8155-be77d771dfa3",
        "scrolled": true,
        "colab": {
          "base_uri": "https://localhost:8080/",
          "height": 102
        }
      },
      "source": [
        "softmax(firstTrainPredictions[0..<5])"
      ],
      "execution_count": 49,
      "outputs": [
        {
          "output_type": "execute_result",
          "data": {
            "text/plain": [
              "[[0.077790916,   0.3858663,   0.5363428],\n",
              " [ 0.12431279,  0.38472518,  0.49096212],\n",
              " [ 0.11448321,  0.38103098,  0.50448585],\n",
              " [ 0.13918012,  0.39377084,  0.46704903],\n",
              " [ 0.11870335,  0.39683965,    0.484457]]\n"
            ]
          },
          "metadata": {
            "tags": []
          },
          "execution_count": 49
        }
      ]
    },
    {
      "cell_type": "markdown",
      "metadata": {
        "colab_type": "text",
        "id": "uRZmchElo481"
      },
      "source": [
        "Taking the `argmax` across classes gives us the predicted class index. But, the model hasn't been trained yet, so these aren't good predictions."
      ]
    },
    {
      "cell_type": "code",
      "metadata": {
        "colab_type": "code",
        "id": "-Jzm_GoErz8B",
        "outputId": "e0f84e82-6c69-43e2-80d8-d26431b6d653",
        "scrolled": true,
        "colab": {
          "base_uri": "https://localhost:8080/",
          "height": 51
        }
      },
      "source": [
        "print(\"Prediction: \\(firstTrainPredictions.argmax(squeezingAxis: 1))\")\n",
        "print(\"    Labels: \\(firstTrainLabels)\")"
      ],
      "execution_count": 50,
      "outputs": [
        {
          "output_type": "stream",
          "text": [
            "Prediction: [2, 2, 2, 2, 2, 2, 2, 2, 2, 2, 2, 2, 2, 2, 2, 2, 2, 2, 2, 2, 2, 2, 2, 2, 2, 2, 2, 2, 2, 2, 2, 2]\r\n",
            "    Labels: [2, 1, 2, 0, 0, 0, 0, 2, 1, 0, 1, 1, 0, 0, 2, 1, 2, 2, 2, 0, 2, 2, 0, 2, 2, 0, 1, 2, 1, 1, 1, 1]\r\n"
          ],
          "name": "stdout"
        }
      ]
    },
    {
      "cell_type": "markdown",
      "metadata": {
        "colab_type": "text",
        "id": "RaKp8aEjKX6B"
      },
      "source": [
        " [`softmaxCrossEntropy(logits:labels:)`](https://www.tensorflow.org/swift/api_docs/Functions#/s:10TensorFlow19softmaxCrossEntropy6logits6labelsAA0A0VyxGAG_AFys5Int32VGtAA0aB13FloatingPointRzlF) function which takes the model's class probability predictions and the desired label, and returns the average loss across the examples."
      ]
    },
    {
      "cell_type": "code",
      "metadata": {
        "id": "-owA627Nit4Q",
        "colab_type": "code",
        "outputId": "8414bb9c-1faa-4fc1-8ccc-7ef7cbaa22af",
        "colab": {
          "base_uri": "https://localhost:8080/",
          "height": 266
        }
      },
      "source": [
        "TensorFlow.softmaxCrossEntropy"
      ],
      "execution_count": 51,
      "outputs": [
        {
          "output_type": "error",
          "ename": "",
          "evalue": "ignored",
          "traceback": [
            "error: <Cell 51>:1:1: error: ambiguous reference to member 'softmaxCrossEntropy(logits:labels:)'\nTensorFlow.softmaxCrossEntropy\n^~~~~~~~~~\n\nTensorFlow.softmaxCrossEntropy:2:13: note: found this candidate\npublic func softmaxCrossEntropy<Scalar>(logits: Tensor<Scalar>, labels: Tensor<Int32>) -> Tensor<Scalar> where Scalar : TensorFlowFloatingPoint\n            ^\n\nTensorFlow.softmaxCrossEntropy:2:13: note: found this candidate\npublic func softmaxCrossEntropy<Scalar>(logits: Tensor<Scalar>, probabilities: Tensor<Scalar>) -> Tensor<Scalar> where Scalar : TensorFlowFloatingPoint\n            ^\n\n"
          ]
        }
      ]
    },
    {
      "cell_type": "code",
      "metadata": {
        "colab_type": "code",
        "id": "tMAT4DcMPwI-",
        "outputId": "36f7e42d-1c5f-4c83-9a5f-b522627bf65c",
        "scrolled": true,
        "colab": {
          "base_uri": "https://localhost:8080/",
          "height": 34
        }
      },
      "source": [
        "let untrainedLogits = model(firstTrainFeatures)\n",
        "let untrainedLoss = softmaxCrossEntropy(logits: untrainedLogits, labels: firstTrainLabels)\n",
        "print(\"Loss test: \\(untrainedLoss)\")"
      ],
      "execution_count": 52,
      "outputs": [
        {
          "output_type": "stream",
          "text": [
            "Loss test: 1.169491\r\n"
          ],
          "name": "stdout"
        }
      ]
    },
    {
      "cell_type": "markdown",
      "metadata": {
        "colab_type": "text",
        "id": "lOxFimtlKruu"
      },
      "source": [
        "### Create an optimizer\n",
        "\n",
        "An *[optimizer](https://developers.google.com/machine-learning/crash-course/glossary#optimizer)* applies the computed gradients to the model's variables to minimize the `loss` function. You can think of the loss function as a curved surface (see Figure 3) and we want to find its lowest point by walking around. The gradients point in the direction of steepest ascent—so we'll travel the opposite way and move down the hill. By iteratively calculating the loss and gradient for each batch, we'll adjust the model during training. Gradually, the model will find the best combination of weights and bias to minimize loss. And the lower the loss, the better the model's predictions.\n",
        "\n",
        "<table>\n",
        "  <tr><td>\n",
        "    <img src=\"https://cs231n.github.io/assets/nn3/opt1.gif\" width=\"70%\"\n",
        "         alt=\"Optimization algorithms visualized over time in 3D space.\">\n",
        "  </td></tr>\n",
        "  <tr><td align=\"center\">\n",
        "    <b>Figure 3.</b> Optimization algorithms visualized over time in 3D space.<br/>(Source: <a href=\"http://cs231n.github.io/neural-networks-3/\">Stanford class CS231n</a>, MIT License, Image credit: <a href=\"https://twitter.com/alecrad\">Alec Radford</a>)\n",
        "  </td></tr>\n",
        "</table>\n",
        "\n",
        "Swift for TensorFlow has many [optimization algorithms](https://github.com/rxwei/DeepLearning/blob/master/Sources/DeepLearning/Optimizer.swift) available for training. This model uses the SGD optimizer that implements the *[stochastic gradient descent](https://developers.google.com/machine-learning/crash-course/glossary#gradient_descent)* (SGD) algorithm. The `learningRate` sets the step size to take for each iteration down the hill. This is a *hyperparameter* that you'll commonly adjust to achieve better results."
      ]
    },
    {
      "cell_type": "code",
      "metadata": {
        "colab_type": "code",
        "id": "8xxi2NNGKwG_",
        "scrolled": true,
        "colab": {}
      },
      "source": [
        "let optimizer = SGD(for: model, learningRate: 0.01)"
      ],
      "execution_count": 0,
      "outputs": []
    },
    {
      "cell_type": "markdown",
      "metadata": {
        "id": "eNYIAUcEkBl6",
        "colab_type": "text"
      },
      "source": [
        "Differentiate the loss with respect to the model's parameters"
      ]
    },
    {
      "cell_type": "code",
      "metadata": {
        "colab_type": "code",
        "id": "rxRNTFVe56RG",
        "outputId": "51f5f452-3dcd-491c-8eff-72695248e72e",
        "scrolled": true,
        "colab": {
          "base_uri": "https://localhost:8080/",
          "height": 34
        }
      },
      "source": [
        "let (loss, grads) = model.valueWithGradient { model -> Tensor<Float> in\n",
        "    let logits = model(firstTrainFeatures)\n",
        "    return softmaxCrossEntropy(logits: logits, labels: firstTrainLabels)\n",
        "}\n",
        "print(\"Current loss: \\(loss)\")"
      ],
      "execution_count": 54,
      "outputs": [
        {
          "output_type": "stream",
          "text": [
            "Current loss: 1.169491\r\n"
          ],
          "name": "stdout"
        }
      ]
    },
    {
      "cell_type": "markdown",
      "metadata": {
        "colab_type": "text",
        "id": "5B27cIT0O0nE"
      },
      "source": [
        "Next, we pass the gradient that we just calculated to the optimizer, which updates the model's differentiable variables accordingly:"
      ]
    },
    {
      "cell_type": "code",
      "metadata": {
        "colab_type": "code",
        "id": "icyvh-o6O0nF",
        "scrolled": true,
        "colab": {}
      },
      "source": [
        "optimizer.update(&model.allDifferentiableVariables, along: grads)"
      ],
      "execution_count": 0,
      "outputs": []
    },
    {
      "cell_type": "markdown",
      "metadata": {
        "colab_type": "text",
        "id": "nhpgM7UpO0nG"
      },
      "source": [
        "If we calculate the loss again, it should be smaller, because gradient descent steps (usually) decrease the loss:"
      ]
    },
    {
      "cell_type": "code",
      "metadata": {
        "colab_type": "code",
        "id": "aw0OzyojAa39",
        "outputId": "0a1450c0-edb4-4510-8692-3045a0860aa1",
        "colab": {
          "base_uri": "https://localhost:8080/",
          "height": 34
        }
      },
      "source": [
        "let logitsAfterOneStep = model(firstTrainFeatures)\n",
        "let lossAfterOneStep = softmaxCrossEntropy(logits: logitsAfterOneStep, labels: firstTrainLabels)\n",
        "print(\"Next loss: \\(lossAfterOneStep)\")"
      ],
      "execution_count": 56,
      "outputs": [
        {
          "output_type": "stream",
          "text": [
            "Next loss: 1.1405698\r\n"
          ],
          "name": "stdout"
        }
      ]
    },
    {
      "cell_type": "markdown",
      "metadata": {
        "colab_type": "text",
        "id": "7Y2VSELvwAvW"
      },
      "source": [
        "### Training loop\n",
        "\n"
      ]
    },
    {
      "cell_type": "code",
      "metadata": {
        "colab_type": "code",
        "id": "AIgulGRUhpto",
        "scrolled": true,
        "colab": {}
      },
      "source": [
        "let epochCount = 500\n",
        "var trainAccuracyResults: [Float] = []\n",
        "var trainLossResults: [Float] = []"
      ],
      "execution_count": 0,
      "outputs": []
    },
    {
      "cell_type": "code",
      "metadata": {
        "colab_type": "code",
        "id": "066kVZQFO0nL",
        "outputId": "b3f8b075-008a-4dbd-c980-6b5375bf5a46",
        "scrolled": true,
        "colab": {
          "base_uri": "https://localhost:8080/",
          "height": 187
        }
      },
      "source": [
        "func accuracy(predictions: Tensor<Int32>, truths: Tensor<Int32>) -> Float {\n",
        "    return Tensor<Float>(predictions .== truths).mean().scalarized()\n",
        "}\n",
        "\n",
        "for epoch in 1...epochCount {\n",
        "    var epochLoss: Float = 0\n",
        "    var epochAccuracy: Float = 0\n",
        "    var batchCount: Int = 0\n",
        "    for batch in trainDataset {\n",
        "        let (loss, grad) = model.valueWithGradient { (model: IrisModel) -> Tensor<Float> in\n",
        "            let logits = model(batch.features)\n",
        "            return softmaxCrossEntropy(logits: logits, labels: batch.labels)\n",
        "        }\n",
        "        optimizer.update(&model.allDifferentiableVariables, along: grad)\n",
        "        \n",
        "        let logits = model(batch.features)\n",
        "        epochAccuracy += accuracy(predictions: logits.argmax(squeezingAxis: 1), truths: batch.labels)\n",
        "        epochLoss += loss.scalarized()\n",
        "        batchCount += 1\n",
        "    }\n",
        "    epochAccuracy /= Float(batchCount)\n",
        "    epochLoss /= Float(batchCount)\n",
        "    trainAccuracyResults.append(epochAccuracy)\n",
        "    trainLossResults.append(epochLoss)\n",
        "    if epoch % 50 == 0 {\n",
        "        print(\"Epoch \\(epoch): Loss: \\(epochLoss), Accuracy: \\(epochAccuracy)\")\n",
        "    }\n",
        "}"
      ],
      "execution_count": 58,
      "outputs": [
        {
          "output_type": "stream",
          "text": [
            "Epoch 50: Loss: 0.5034555, Accuracy: 0.6979167\n",
            "Epoch 100: Loss: 0.36751425, Accuracy: 0.9114583\n",
            "Epoch 150: Loss: 0.26342344, Accuracy: 0.984375\n",
            "Epoch 200: Loss: 0.19525252, Accuracy: 0.984375\n",
            "Epoch 250: Loss: 0.1575833, Accuracy: 0.984375\n",
            "Epoch 300: Loss: 0.13529453, Accuracy: 0.984375\n",
            "Epoch 350: Loss: 0.12082361, Accuracy: 0.984375\n",
            "Epoch 400: Loss: 0.110710636, Accuracy: 0.9921875\n",
            "Epoch 450: Loss: 0.103334695, Accuracy: 0.9921875\n",
            "Epoch 500: Loss: 0.09789996, Accuracy: 0.9921875\n"
          ],
          "name": "stdout"
        }
      ]
    },
    {
      "cell_type": "markdown",
      "metadata": {
        "colab_type": "text",
        "id": "j3wdbmtLVTyr"
      },
      "source": [
        "see the *loss* go down and the *accuracy* go up."
      ]
    },
    {
      "cell_type": "code",
      "metadata": {
        "colab_type": "code",
        "id": "agjvNd2iUGFn",
        "outputId": "cfb27b64-4de2-4e7d-fd76-ff7d541fd90e",
        "scrolled": true,
        "colab": {
          "base_uri": "https://localhost:8080/",
          "height": 517
        }
      },
      "source": [
        "plt.figure(figsize: [12, 8])\n",
        "\n",
        "let accuracyAxes = plt.subplot(2, 1, 1)\n",
        "accuracyAxes.set_ylabel(\"Accuracy\")\n",
        "accuracyAxes.plot(trainAccuracyResults)\n",
        "\n",
        "let lossAxes = plt.subplot(2, 1, 2)\n",
        "lossAxes.set_ylabel(\"Loss\")\n",
        "lossAxes.set_xlabel(\"Epoch\")\n",
        "lossAxes.plot(trainLossResults)\n",
        "\n",
        "plt.show()"
      ],
      "execution_count": 31,
      "outputs": [
        {
          "output_type": "display_data",
          "data": {
            "image/png": "[encoded data removed]",
            "text/plain": [
              "<Figure size 864x576 with 2 Axes>"
            ]
          },
          "metadata": {
            "tags": []
          }
        },
        {
          "output_type": "execute_result",
          "data": {
            "text/plain": [
              "None\n"
            ]
          },
          "metadata": {
            "tags": []
          },
          "execution_count": 31
        }
      ]
    },
    {
      "cell_type": "markdown",
      "metadata": {
        "colab_type": "text",
        "id": "axA6WuGVO0nR"
      },
      "source": [
        "Note that the y-axes of the graphs are not zero-based."
      ]
    },
    {
      "cell_type": "markdown",
      "metadata": {
        "colab_type": "text",
        "id": "z-EvK7hGL0d8"
      },
      "source": [
        "### Setup the test dataset\n",
        "http://download.tensorflow.org/data/iris_training.csv:"
      ]
    },
    {
      "cell_type": "code",
      "metadata": {
        "colab_type": "code",
        "id": "SRMWCu30bnxH",
        "scrolled": true,
        "colab": {}
      },
      "source": [
        "let testDataFilename = \"iris_test.csv\"\n",
        "download(from: \"http://download.tensorflow.org/data/iris_test.csv\", to: testDataFilename)"
      ],
      "execution_count": 0,
      "outputs": []
    },
    {
      "cell_type": "markdown",
      "metadata": {
        "colab_type": "text",
        "id": "jEPPL6FUO0nV"
      },
      "source": [
        " Now load it into a `Dataset`:"
      ]
    },
    {
      "cell_type": "code",
      "metadata": {
        "colab_type": "code",
        "id": "w6SCt95HO0nW",
        "scrolled": true,
        "colab": {}
      },
      "source": [
        "let testDataset: Dataset<IrisBatch> = Dataset(\n",
        "    contentsOfCSVFile: testDataFilename, hasHeader: true,\n",
        "    featureColumns: [0, 1, 2, 3], labelColumns: [4]\n",
        ").batched(batchSize)"
      ],
      "execution_count": 0,
      "outputs": []
    },
    {
      "cell_type": "markdown",
      "metadata": {
        "colab_type": "text",
        "id": "HFuOKXJdMAdm"
      },
      "source": [
        "### Evaluate the model on the test dataset"
      ]
    },
    {
      "cell_type": "code",
      "metadata": {
        "colab_type": "code",
        "id": "Tj4Rs8gwO0nY",
        "outputId": "e19d14c4-451a-44a6-9045-f9e0b3e4c0e2",
        "scrolled": true,
        "colab": {
          "base_uri": "https://localhost:8080/",
          "height": 34
        }
      },
      "source": [
        "// NOTE: With `batchSize = 32` and 30 examples in the test dataset, only one batch will run in the loop.\n",
        "for testBatch in testDataset {\n",
        "    let logits = model(testBatch.features)\n",
        "    let predictions = logits.argmax(squeezingAxis: 1)\n",
        "    print(\"Test batch accuracy: \\(accuracy(predictions: predictions, truths: testBatch.labels))\")\n",
        "}"
      ],
      "execution_count": 34,
      "outputs": [
        {
          "output_type": "stream",
          "text": [
            "Test batch accuracy: 0.96666664\r\n"
          ],
          "name": "stdout"
        }
      ]
    },
    {
      "cell_type": "markdown",
      "metadata": {
        "colab_type": "text",
        "id": "HcKEZMtCOeK-"
      },
      "source": [
        "We can see on the first batch, for example, the model is usually correct:"
      ]
    },
    {
      "cell_type": "code",
      "metadata": {
        "colab_type": "code",
        "id": "uNwt2eMeOane",
        "outputId": "8462f514-6e41-4bc5-adab-ffd52a4dfaba",
        "scrolled": true,
        "colab": {
          "base_uri": "https://localhost:8080/",
          "height": 51
        }
      },
      "source": [
        "let firstTestBatch = testDataset.first!\n",
        "let firstTestBatchLogits = model(firstTestBatch.features)\n",
        "let firstTestBatchPredictions = firstTestBatchLogits.argmax(squeezingAxis: 1)\n",
        "\n",
        "print(firstTestBatchPredictions)\n",
        "print(firstTestBatch.labels)"
      ],
      "execution_count": 35,
      "outputs": [
        {
          "output_type": "stream",
          "text": [
            "[1, 2, 0, 1, 1, 1, 0, 1, 1, 2, 2, 0, 2, 1, 1, 0, 1, 0, 0, 2, 0, 1, 2, 1, 1, 1, 0, 1, 2, 1]\r\n",
            "[1, 2, 0, 1, 1, 1, 0, 2, 1, 2, 2, 0, 2, 1, 1, 0, 1, 0, 0, 2, 0, 1, 2, 1, 1, 1, 0, 1, 2, 1]\r\n"
          ],
          "name": "stdout"
        }
      ]
    },
    {
      "cell_type": "markdown",
      "metadata": {
        "id": "fsmD1eQunRiK",
        "colab_type": "text"
      },
      "source": [
        "### Could be better if use train, val, test set; current method confuse people"
      ]
    },
    {
      "cell_type": "markdown",
      "metadata": {
        "colab_type": "text",
        "id": "7Li2r1tYvW7S"
      },
      "source": [
        "## Use the trained model to make predictions\n",
        "\n",
        "* `0`: Iris setosa\n",
        "* `1`: Iris versicolor\n",
        "* `2`: Iris virginica"
      ]
    },
    {
      "cell_type": "code",
      "metadata": {
        "colab_type": "code",
        "id": "MTYOZr27O0ne",
        "outputId": "7411cb14-3d45-470e-a019-18108a86e377",
        "scrolled": true,
        "colab": {
          "base_uri": "https://localhost:8080/",
          "height": 68
        }
      },
      "source": [
        "let unlabeledDataset: Tensor<Float> =\n",
        "    [[5.1, 3.3, 1.7, 0.5],\n",
        "     [5.9, 3.0, 4.2, 1.5],\n",
        "     [6.9, 3.1, 5.4, 2.1]]\n",
        "\n",
        "let unlabeledDatasetPredictions = model(unlabeledDataset)\n",
        "\n",
        "for i in 0..<unlabeledDatasetPredictions.shape[0] {\n",
        "    let logits = unlabeledDatasetPredictions[i]\n",
        "    let classIdx = logits.argmax().scalar!\n",
        "    print(\"Example \\(i) prediction: \\(classNames[Int(classIdx)]) (\\(softmax(logits)))\")\n",
        "}"
      ],
      "execution_count": 36,
      "outputs": [
        {
          "output_type": "stream",
          "text": [
            "Example 0 prediction: Iris setosa ([   0.9941551,  0.005844921, 9.754981e-11])\r\n",
            "Example 1 prediction: Iris versicolor ([0.0014089192,    0.9922127, 0.0063782893])\r\n",
            "Example 2 prediction: Iris virginica ([3.2954597e-06,      0.203958,     0.7960387])\r\n"
          ],
          "name": "stdout"
        }
      ]
    },
    {
      "cell_type": "code",
      "metadata": {
        "id": "HwRFrSsul5dS",
        "colab_type": "code",
        "colab": {}
      },
      "source": [
        ""
      ],
      "execution_count": 0,
      "outputs": []
    }
  ]
}
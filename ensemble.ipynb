{
  "nbformat": 4,
  "nbformat_minor": 0,
  "metadata": {
    "colab": {
      "name": "ensemble.ipynb",
      "version": "0.3.2",
      "provenance": [],
      "collapsed_sections": []
    },
    "kernelspec": {
      "name": "python3",
      "display_name": "Python 3"
    }
  },
  "cells": [
    {
      "cell_type": "code",
      "metadata": {
        "id": "o6bneh5vhHUK",
        "colab_type": "code",
        "colab": {}
      },
      "source": [
        "import pandas as pd\n",
        "import numpy as np\n",
        "import matplotlib.pyplot as plt"
      ],
      "execution_count": 0,
      "outputs": []
    },
    {
      "cell_type": "code",
      "metadata": {
        "id": "hr1RSLyG6WaH",
        "colab_type": "code",
        "colab": {
          "base_uri": "https://localhost:8080/",
          "height": 104
        },
        "outputId": "c3b2df27-3b77-4300-c8d0-60979e306629"
      },
      "source": [
        "values = np.random.randint(0,100,size=(100, 4))                           \n",
        "values[:5]"
      ],
      "execution_count": 16,
      "outputs": [
        {
          "output_type": "execute_result",
          "data": {
            "text/plain": [
              "array([[86, 69, 53, 25],\n",
              "       [14,  5, 77, 92],\n",
              "       [31, 72, 68, 41],\n",
              "       [46,  9, 14, 64],\n",
              "       [33,  3, 29, 20]])"
            ]
          },
          "metadata": {
            "tags": []
          },
          "execution_count": 16
        }
      ]
    },
    {
      "cell_type": "code",
      "metadata": {
        "id": "QMbK2PmvhL8R",
        "colab_type": "code",
        "colab": {}
      },
      "source": [
        "# synthetic data\n",
        "df = pd.DataFrame(values, columns=['y', 'model1', 'model2', 'model3'])"
      ],
      "execution_count": 0,
      "outputs": []
    },
    {
      "cell_type": "code",
      "metadata": {
        "id": "e3TugxE4i_4v",
        "colab_type": "code",
        "colab": {
          "base_uri": "https://localhost:8080/",
          "height": 202
        },
        "outputId": "894280cd-52a3-443d-9989-2a6925ceb3bd"
      },
      "source": [
        "df.head()"
      ],
      "execution_count": 18,
      "outputs": [
        {
          "output_type": "execute_result",
          "data": {
            "text/html": [
              "<div>\n",
              "<style scoped>\n",
              "    .dataframe tbody tr th:only-of-type {\n",
              "        vertical-align: middle;\n",
              "    }\n",
              "\n",
              "    .dataframe tbody tr th {\n",
              "        vertical-align: top;\n",
              "    }\n",
              "\n",
              "    .dataframe thead th {\n",
              "        text-align: right;\n",
              "    }\n",
              "</style>\n",
              "<table border=\"1\" class=\"dataframe\">\n",
              "  <thead>\n",
              "    <tr style=\"text-align: right;\">\n",
              "      <th></th>\n",
              "      <th>y</th>\n",
              "      <th>model1</th>\n",
              "      <th>model2</th>\n",
              "      <th>model3</th>\n",
              "    </tr>\n",
              "  </thead>\n",
              "  <tbody>\n",
              "    <tr>\n",
              "      <th>0</th>\n",
              "      <td>86</td>\n",
              "      <td>69</td>\n",
              "      <td>53</td>\n",
              "      <td>25</td>\n",
              "    </tr>\n",
              "    <tr>\n",
              "      <th>1</th>\n",
              "      <td>14</td>\n",
              "      <td>5</td>\n",
              "      <td>77</td>\n",
              "      <td>92</td>\n",
              "    </tr>\n",
              "    <tr>\n",
              "      <th>2</th>\n",
              "      <td>31</td>\n",
              "      <td>72</td>\n",
              "      <td>68</td>\n",
              "      <td>41</td>\n",
              "    </tr>\n",
              "    <tr>\n",
              "      <th>3</th>\n",
              "      <td>46</td>\n",
              "      <td>9</td>\n",
              "      <td>14</td>\n",
              "      <td>64</td>\n",
              "    </tr>\n",
              "    <tr>\n",
              "      <th>4</th>\n",
              "      <td>33</td>\n",
              "      <td>3</td>\n",
              "      <td>29</td>\n",
              "      <td>20</td>\n",
              "    </tr>\n",
              "  </tbody>\n",
              "</table>\n",
              "</div>"
            ],
            "text/plain": [
              "    y  model1  model2  model3\n",
              "0  86      69      53      25\n",
              "1  14       5      77      92\n",
              "2  31      72      68      41\n",
              "3  46       9      14      64\n",
              "4  33       3      29      20"
            ]
          },
          "metadata": {
            "tags": []
          },
          "execution_count": 18
        }
      ]
    },
    {
      "cell_type": "code",
      "metadata": {
        "id": "DZLejX4QhNUZ",
        "colab_type": "code",
        "colab": {}
      },
      "source": [
        "# ensemble with Linear Regression\n",
        "reg = LinearRegression().fit(df[['model1', 'model2', 'model3']][:80], df.y[:80])"
      ],
      "execution_count": 0,
      "outputs": []
    },
    {
      "cell_type": "code",
      "metadata": {
        "id": "cI7-WeL1-L4M",
        "colab_type": "code",
        "colab": {
          "base_uri": "https://localhost:8080/",
          "height": 35
        },
        "outputId": "1af7d7d5-7304-4dd7-da94-4acd37138a47"
      },
      "source": [
        "reg.score(df[['model1', 'model2', 'model3']][:80], df.y[:80])"
      ],
      "execution_count": 32,
      "outputs": [
        {
          "output_type": "execute_result",
          "data": {
            "text/plain": [
              "0.04249738515104062"
            ]
          },
          "metadata": {
            "tags": []
          },
          "execution_count": 32
        }
      ]
    },
    {
      "cell_type": "code",
      "metadata": {
        "id": "tMnK8ER6-UtC",
        "colab_type": "code",
        "colab": {
          "base_uri": "https://localhost:8080/",
          "height": 35
        },
        "outputId": "a9859cae-163b-44b6-8c2b-001e25e99c1c"
      },
      "source": [
        "reg.intercept_ "
      ],
      "execution_count": 25,
      "outputs": [
        {
          "output_type": "execute_result",
          "data": {
            "text/plain": [
              "45.16038792734951"
            ]
          },
          "metadata": {
            "tags": []
          },
          "execution_count": 25
        }
      ]
    },
    {
      "cell_type": "code",
      "metadata": {
        "id": "ub8jyp-fANwU",
        "colab_type": "code",
        "colab": {
          "base_uri": "https://localhost:8080/",
          "height": 87
        },
        "outputId": "fa04d5e7-bdb7-4b29-89bf-eb2cd8437ecc"
      },
      "source": [
        "pred = reg.predict(df[['model1', 'model2', 'model3']][80:])\n",
        "pred"
      ],
      "execution_count": 38,
      "outputs": [
        {
          "output_type": "execute_result",
          "data": {
            "text/plain": [
              "array([47.76702089, 37.9047255 , 44.24743597, 57.88857926, 42.55380266,\n",
              "       47.38652815, 42.14776895, 50.53976587, 49.77533985, 53.78614526,\n",
              "       54.7249244 , 54.37153023, 51.2789424 , 39.45280971, 54.57786191,\n",
              "       48.38158648, 45.56975304, 46.52607345, 50.07226277, 52.72517322])"
            ]
          },
          "metadata": {
            "tags": []
          },
          "execution_count": 38
        }
      ]
    },
    {
      "cell_type": "code",
      "metadata": {
        "id": "ezMUY-5XCZrG",
        "colab_type": "code",
        "colab": {
          "base_uri": "https://localhost:8080/",
          "height": 381
        },
        "outputId": "a5f40e40-7953-424e-ac51-a0a1b4abf1b2"
      },
      "source": [
        "df.y[80:]"
      ],
      "execution_count": 36,
      "outputs": [
        {
          "output_type": "execute_result",
          "data": {
            "text/plain": [
              "80    21\n",
              "81    79\n",
              "82    96\n",
              "83    56\n",
              "84    13\n",
              "85    13\n",
              "86    51\n",
              "87    93\n",
              "88    34\n",
              "89    49\n",
              "90    61\n",
              "91    70\n",
              "92    55\n",
              "93    90\n",
              "94    38\n",
              "95    91\n",
              "96     2\n",
              "97    97\n",
              "98    60\n",
              "99    50\n",
              "Name: y, dtype: int64"
            ]
          },
          "metadata": {
            "tags": []
          },
          "execution_count": 36
        }
      ]
    },
    {
      "cell_type": "code",
      "metadata": {
        "id": "e7ai0kkbCv_W",
        "colab_type": "code",
        "colab": {
          "base_uri": "https://localhost:8080/",
          "height": 287
        },
        "outputId": "a230ccd0-7b04-4ac2-a5da-854160f1cd7d"
      },
      "source": [
        "plt.plot(pred)"
      ],
      "execution_count": 39,
      "outputs": [
        {
          "output_type": "execute_result",
          "data": {
            "text/plain": [
              "[<matplotlib.lines.Line2D at 0x7f9ef65e4a90>]"
            ]
          },
          "metadata": {
            "tags": []
          },
          "execution_count": 39
        },
        {
          "output_type": "display_data",
          "data": {
            "image/png": "[encoded data removed]",
            "text/plain": [
              "<Figure size 432x288 with 1 Axes>"
            ]
          },
          "metadata": {
            "tags": []
          }
        }
      ]
    },
    {
      "cell_type": "code",
      "metadata": {
        "id": "gAJJl6zrC_Mu",
        "colab_type": "code",
        "colab": {
          "base_uri": "https://localhost:8080/",
          "height": 287
        },
        "outputId": "5434f63c-f43d-4866-b679-df4359be4b15"
      },
      "source": [
        "plt.plot(df.y[80:])"
      ],
      "execution_count": 40,
      "outputs": [
        {
          "output_type": "execute_result",
          "data": {
            "text/plain": [
              "[<matplotlib.lines.Line2D at 0x7f9ef3d76518>]"
            ]
          },
          "metadata": {
            "tags": []
          },
          "execution_count": 40
        },
        {
          "output_type": "display_data",
          "data": {
            "image/png": "[encoded data removed]",
            "text/plain": [
              "<Figure size 432x288 with 1 Axes>"
            ]
          },
          "metadata": {
            "tags": []
          }
        }
      ]
    },
    {
      "cell_type": "code",
      "metadata": {
        "id": "yUdglXcOARcC",
        "colab_type": "code",
        "colab": {
          "base_uri": "https://localhost:8080/",
          "height": 35
        },
        "outputId": "6e6b4cc9-bdf2-4b28-c1dc-67635a41e58d"
      },
      "source": [
        "reg.coef_"
      ],
      "execution_count": 31,
      "outputs": [
        {
          "output_type": "execute_result",
          "data": {
            "text/plain": [
              "array([ 0.17618763,  0.06110402, -0.06658208])"
            ]
          },
          "metadata": {
            "tags": []
          },
          "execution_count": 31
        }
      ]
    },
    {
      "cell_type": "code",
      "metadata": {
        "id": "mvgBS1RZBs10",
        "colab_type": "code",
        "colab": {}
      },
      "source": [
        ""
      ],
      "execution_count": 0,
      "outputs": []
    }
  ]
}